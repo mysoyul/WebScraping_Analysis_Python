{
 "cells": [
  {
   "cell_type": "markdown",
   "id": "eb0bfa44",
   "metadata": {},
   "source": [
    "## 1. 뉴스제목 가져오기\n",
    "* user-agent 요청헤더를 반드시 설정해야 한다."
   ]
  },
  {
   "cell_type": "code",
   "execution_count": 1,
   "id": "f0d27781",
   "metadata": {},
   "outputs": [
    {
     "name": "stdout",
     "output_type": "stream",
     "text": [
      "Name: requests\n",
      "Version: 2.28.1\n",
      "Summary: Python HTTP for Humans.\n",
      "Home-page: https://requests.readthedocs.io\n",
      "Author: Kenneth Reitz\n",
      "Author-email: me@kennethreitz.org\n",
      "License: Apache 2.0\n",
      "Location: c:\\users\\vega2\\anaconda3\\lib\\site-packages\n",
      "Requires: certifi, charset-normalizer, idna, urllib3\n",
      "Required-by: anaconda-client, anaconda-project, conda, conda-build, conda-repo-cli, conda_package_streaming, cookiecutter, datashader, huggingface-hub, jupyterlab_server, panel, pooch, PyGithub, requests-file, requests-toolbelt, Sphinx, tldextract, transformers, webdriver-manager\n"
     ]
    }
   ],
   "source": [
    "!pip show requests"
   ]
  },
  {
   "cell_type": "code",
   "execution_count": 2,
   "id": "bf80a429",
   "metadata": {},
   "outputs": [],
   "source": [
    "import requests\n",
    "import bs4\n",
    "from bs4 import BeautifulSoup"
   ]
  },
  {
   "cell_type": "code",
   "execution_count": 3,
   "id": "9788d6ac",
   "metadata": {},
   "outputs": [
    {
     "name": "stdout",
     "output_type": "stream",
     "text": [
      "requests ver  2.28.1\n",
      "beautifulsoup  4.11.1\n"
     ]
    }
   ],
   "source": [
    "print('requests ver ' , requests.__version__)\n",
    "print('beautifulsoup ', bs4.__version__)"
   ]
  },
  {
   "cell_type": "code",
   "execution_count": 34,
   "id": "94c12fd6",
   "metadata": {},
   "outputs": [
    {
     "name": "stdout",
     "output_type": "stream",
     "text": [
      "<class 'requests.models.Response'>\n",
      "200\n",
      "31\n",
      " https://n.news.naver.com/mnews/article/031/0000793332?sid=105\n",
      "이중근 부영그룹 회장, KAIST에 200억 기부 https://n.news.naver.com/mnews/article/031/0000793332?sid=105\n",
      " https://n.news.naver.com/mnews/article/009/0005224627?sid=105\n",
      "“김범수 ‘진짜 쇄신’ 보고싶다”…카카오 노조, 피켓시위 시작했다 https://n.news.naver.com/mnews/article/009/0005224627?sid=105\n",
      " https://n.news.naver.com/mnews/article/023/0003802834?sid=105\n",
      "카카오 내홍에...김정호 경영지원총괄, ‘셀프 징계’ 요청 https://n.news.naver.com/mnews/article/023/0003802834?sid=105\n",
      " https://n.news.naver.com/mnews/article/277/0005349733?sid=105\n",
      "\"사이버 보안 핵심은 인재\"…내년 예산 20%↑ https://n.news.naver.com/mnews/article/277/0005349733?sid=105\n",
      " https://n.news.naver.com/mnews/article/001/0014369207?sid=105\n",
      "다나와 e스포츠, 배틀그라운드 국제대회 'PGC 2023' 우승 https://n.news.naver.com/mnews/article/001/0014369207?sid=105\n",
      " https://n.news.naver.com/mnews/article/366/0000952304?sid=105\n",
      "국제과학비즈니스벨트에 BRT 정류소 생긴다 https://n.news.naver.com/mnews/article/366/0000952304?sid=105\n",
      " https://n.news.naver.com/mnews/article/001/0014369663?sid=105\n",
      "네이버 \"프리미엄 유료 콘텐츠 결제 건수·거래액 급증\" https://n.news.naver.com/mnews/article/001/0014369663?sid=105\n",
      " https://n.news.naver.com/mnews/article/001/0014369658?sid=105\n",
      "LGU+, 광복절 캠페인으로 대한민국광고대상 금상…SKT 은상(종합) https://n.news.naver.com/mnews/article/001/0014369658?sid=105\n",
      "당정, 중대재해처벌법 50인 미만 기업 2년 더 유예 추진 https://n.news.naver.com/mnews/article/023/0003802698?sid=100\n",
      "민주 \"다음 주부터 인재영입식…1호 인재는 당 밖 인사\" https://n.news.naver.com/mnews/article/421/0007213769?sid=100\n",
      "尹, 오늘 중폭 개각…총선 출마자 대신 관료·전문가 채운다 [용산실록] https://n.news.naver.com/mnews/article/016/0002233631?sid=100\n",
      "中, 대만인들에 ‘저가 방중관광’…대만 “노골적 선거 개입” 대응 https://n.news.naver.com/mnews/article/016/0002233876?sid=104\n",
      "또 규모 6.8 지진…'불의 고리' 필리핀 3일 연속 강진[자막뉴스] https://n.news.naver.com/mnews/article/055/0001111320?sid=104\n",
      "비트코인에 산타 오셨네…4만불 돌파하자 관련주 급등 https://n.news.naver.com/mnews/article/008/0004969497?sid=101\n",
      "한화 \"2027년 이차전지 매출 1.2조원 달성…종합솔루션 제공\" https://n.news.naver.com/mnews/article/001/0014369529?sid=101\n",
      "홍콩 지자 이번엔 日 닛케이 ELS ‘인기’… “강세장 투자 유의해야” https://n.news.naver.com/mnews/article/366/0000952132?sid=101\n",
      "'X신' 논란→진흙탕 싸움 번졌다…대표까지 등판, 카카오에 무슨 일이 https://n.news.naver.com/mnews/article/008/0004969463?sid=105\n",
      "\"사이버 보안 핵심은 인재\"…내년 예산 20%↑ https://n.news.naver.com/mnews/article/277/0005349733?sid=105\n",
      "여에스더, 식약처 前 과장에 고발 당해…“의사 신분 이용” https://n.news.naver.com/mnews/article/081/0003413613?sid=102\n",
      "끼어들기에 격분한 40대..차주 쫓아가 흉기 휘두른 뒤 '극단 선택' https://n.news.naver.com/mnews/article/660/0000050677?sid=102\n",
      "서울시, 내일 밤부터 세계 최초 심야 자율주행버스 정기 운행 https://n.news.naver.com/mnews/article/052/0001967792?sid=102\n",
      "광주·전남 아침 기온 ‘뚝’…낮부터 추위 누그러져[날씨] https://n.news.naver.com/mnews/article/056/0011614614?sid=103\n",
      "인천시 지역 문화유산 활용 행사 인기…내년에 총 7개 사업 진행 https://n.news.naver.com/mnews/article/014/0005109644?sid=103\n"
     ]
    }
   ],
   "source": [
    "# IT/과학 뉴스\n",
    "url = 'https://news.naver.com/main/main.naver'\n",
    "# 요청 파라미터\n",
    "req_param = {\n",
    "    'mode':'LSD',\n",
    "    'mid':'shm',\n",
    "    'sid1':'105'\n",
    "}\n",
    "# 요청 헤더 설정 : 브라우저 정보\n",
    "req_header = {\n",
    "    'user-agent': 'Mozilla/5.0 (Windows NT 10.0; Win64; x64) AppleWebKit/537.36 (KHTML, like Gecko) Chrome/104.0.0.0 Safari/537.36'\n",
    "}\n",
    "res = requests.get(url, params=req_param, headers=req_header)\n",
    "print(type(res))\n",
    "print(res.status_code)\n",
    "if res.ok:\n",
    "    html = res.text\n",
    "    soup = BeautifulSoup(html, 'html.parser')\n",
    "    \n",
    "    '''\n",
    "    <div class=\"sh_text\"> div.sh_text\n",
    "        <a href=\"https://n.news.naver.com/mnews/article/\"> a[href*='n.news.naver.com/mnews/article']\n",
    "    '''\n",
    "    print(len(soup.select(\"a[href*='n.news.naver.com/mnews/article']\")))\n",
    "    a_tags = soup.select(\"a[href*='n.news.naver.com/mnews/article']\")\n",
    "    for a_tag in a_tags:\n",
    "#         print('&&&&----')\n",
    "#         print(a_tag)\n",
    "#         print('----')\n",
    "        title = a_tag.text.strip()\n",
    "        href = a_tag['href']\n",
    "        print(title, href)"
   ]
  },
  {
   "cell_type": "code",
   "execution_count": 35,
   "id": "0a46f979",
   "metadata": {},
   "outputs": [],
   "source": [
    "import requests\n",
    "import bs4\n",
    "from bs4 import BeautifulSoup\n",
    "\n",
    "def print_news_title(sid, section):\n",
    "    print(f'===> {section} 뉴스 <====')\n",
    "    url = 'https://news.naver.com/main/main.naver'\n",
    "    # 요청 파라미터\n",
    "    req_param = {\n",
    "        'mode':'LSD',\n",
    "        'mid':'shm',\n",
    "        'sid1': sid\n",
    "    }\n",
    "    # 요청 헤더 설정 : 브라우저 정보\n",
    "    req_header = {\n",
    "        'user-agent': 'Mozilla/5.0 (Windows NT 10.0; Win64; x64) AppleWebKit/537.36 (KHTML, like Gecko) Chrome/104.0.0.0 Safari/537.36'\n",
    "    }\n",
    "    res = requests.get(url, params=req_param, headers=req_header)\n",
    "    print(type(res))\n",
    "    print(res.status_code)\n",
    "    if res.ok:\n",
    "        html = res.text\n",
    "        soup = BeautifulSoup(html, 'html.parser')\n",
    "\n",
    "        '''\n",
    "        <div class=\"sh_text\"> div.sh_text\n",
    "            <a href=\"https://n.news.naver.com/mnews/article/\"> a[href*='n.news.naver.com/mnews/article']\n",
    "        '''\n",
    "        print(len(soup.select(\"a[href*='n.news.naver.com/mnews/article']\")))\n",
    "        a_tags = soup.select(\"a[href*='n.news.naver.com/mnews/article']\")\n",
    "        for a_tag in a_tags:\n",
    "            title = a_tag.text.strip()\n",
    "            href = a_tag['href']\n",
    "            print(title, href)"
   ]
  },
  {
   "cell_type": "code",
   "execution_count": 36,
   "id": "980ebe9b",
   "metadata": {},
   "outputs": [
    {
     "name": "stdout",
     "output_type": "stream",
     "text": [
      "===> 경제 뉴스 <====\n",
      "<class 'requests.models.Response'>\n",
      "200\n",
      "35\n",
      " https://n.news.naver.com/mnews/article/082/0001244697?sid=101\n",
      "수조 원 손실 ‘홍콩 ELS’ 사태…금감원, 배상기준안 마련 검토 https://n.news.naver.com/mnews/article/082/0001244697?sid=101\n",
      " https://n.news.naver.com/mnews/article/366/0000952193?sid=101\n",
      "美 연준 금리 인하 기대에 4만달러 선에서 줄타기하는 비트코인 https://n.news.naver.com/mnews/article/366/0000952193?sid=101\n",
      " https://n.news.naver.com/mnews/article/029/0002840861?sid=101\n",
      "토지임대부 분양주택, `거주 10년 뒤 시세차익` 가능해지나 https://n.news.naver.com/mnews/article/029/0002840861?sid=101\n",
      " https://n.news.naver.com/mnews/article/310/0000112503?sid=101\n",
      "풀무원녹즙, 40대 여성 리더 김미경 신임 대표 선임 https://n.news.naver.com/mnews/article/310/0000112503?sid=101\n",
      " https://n.news.naver.com/mnews/article/003/0012246375?sid=101\n",
      "금감원, 세종시·한화손보와 보이스피싱 예방 협력 https://n.news.naver.com/mnews/article/003/0012246375?sid=101\n",
      " https://n.news.naver.com/mnews/article/277/0005349610?sid=101\n",
      "'푸바오' 한정판 등장…KB국민 에버랜드 판다카드 새 디자인 선봬 https://n.news.naver.com/mnews/article/277/0005349610?sid=101\n",
      "동영상기사 https://n.news.naver.com/mnews/article/056/0011614821?sid=101\n",
      "한은 “중국 성장 주변국 영향 축소…이제 특수 누리기 어려워” https://n.news.naver.com/mnews/article/056/0011614821?sid=101\n",
      " https://n.news.naver.com/mnews/article/009/0005224485?sid=101\n",
      "[단독] 요소수출 틀어막은 중국…요소수 대란 2년만에 다시 오나 https://n.news.naver.com/mnews/article/009/0005224485?sid=101\n",
      " https://n.news.naver.com/mnews/article/277/0005349569?sid=101\n",
      "LS전선, 5G급 PoE 케이블 출시…세계 최고 속도 https://n.news.naver.com/mnews/article/277/0005349569?sid=101\n",
      " https://n.news.naver.com/mnews/article/001/0014369785?sid=101\n",
      "전국 2천500개 편의점서 임금체불·최저임금 등 현장지도 https://n.news.naver.com/mnews/article/001/0014369785?sid=101\n",
      "이르면 내일 2기 내각 발표…장·차관 10여명 교체 가닥 https://n.news.naver.com/mnews/article/437/0000369351?sid=100\n",
      "尹, 정책실장·신임 수석에 임명장…배우자에게 꽃다발도 https://n.news.naver.com/mnews/article/001/0014369605?sid=100\n",
      "종착역 향하는 인요한 혁신위…'조기 해체'냐 '비대위' 초강수냐 https://n.news.naver.com/mnews/article/421/0007213883?sid=100\n",
      "中 신용불량자 900만명 육박 코로나 이후 최다…4년간 50% 급증 https://n.news.naver.com/mnews/article/001/0014369413?sid=104\n",
      "'선거 조작·전쟁 확산' 제프리 힌턴, 생성형 AI 우려…\"인류 방향 전환 필요\" https://n.news.naver.com/mnews/article/057/0001784728?sid=104\n",
      "내년 1월 한-영 FTA 개선 협상… 영국과 신규 원전 건설 협의 https://n.news.naver.com/mnews/article/366/0000952200?sid=101\n",
      "K9 자주포 152문 폴란드 2차 수출 성공…한화 \"3.4조 계약\"(종합) https://n.news.naver.com/mnews/article/421/0007213372?sid=101\n",
      "홍콩 ELS 충격에 반사이익…'우르르' 몰렸다 https://n.news.naver.com/mnews/article/215/0001137289?sid=101\n",
      "\"글 하나에 1500원 결제\"…네이버, 새 먹거리 키운다 https://n.news.naver.com/mnews/article/015/0004921373?sid=105\n",
      "다나와 이스포츠, 배틀그라운드 최상위 국제 대회 우승 https://n.news.naver.com/mnews/article/018/0005631445?sid=105\n",
      "온천여행 와서 허탕...온천 없는 ‘신길온천역’ 이름 왜 못 바꾸나 보니 https://n.news.naver.com/mnews/article/009/0005224616?sid=102\n",
      "사망원인 8위…30세 이상서 흔해졌다 https://n.news.naver.com/mnews/article/215/0001137414?sid=103\n",
      "검찰, '이재명 법인카드 유용 의혹' 경기도청 압수수색 https://n.news.naver.com/mnews/article/014/0005109584?sid=102\n",
      "인천시 문화유산 야행, 3년 연속 우수성 인정 https://n.news.naver.com/mnews/article/016/0002233596?sid=102\n",
      "아침에는 '쌀쌀' 낮부터 포근…\"큰 추위 없는 한 주 예상\" https://n.news.naver.com/mnews/article/079/0003839719?sid=103\n"
     ]
    }
   ],
   "source": [
    "section_dict = {100:'정치',101:'경제',102:'사회',103:'생활/문화',104:'세계',105:'IT/과학'}\n",
    "print_news_title(101, section_dict[101])"
   ]
  },
  {
   "cell_type": "markdown",
   "id": "323196dc",
   "metadata": {},
   "source": [
    "### 2. Image 다운로드\n",
    "* referer 요청 헤더를 반드시 설정해야 한다."
   ]
  },
  {
   "cell_type": "code",
   "execution_count": 41,
   "id": "c72d6cb1",
   "metadata": {},
   "outputs": [
    {
     "name": "stdout",
     "output_type": "stream",
     "text": [
      "20220804112251_d97bd1e1b38f0cd022e4e3639d2926b3_IMAG01_1.jpg\n",
      " writing to 20220804112251_d97bd1e1b38f0cd022e4e3639d2926b3_IMAG01_1.jpg(299,319 bytes)\n",
      "20220804112251_d97bd1e1b38f0cd022e4e3639d2926b3_IMAG01_2.jpg\n",
      " writing to 20220804112251_d97bd1e1b38f0cd022e4e3639d2926b3_IMAG01_2.jpg(163,333 bytes)\n",
      "20220804112251_d97bd1e1b38f0cd022e4e3639d2926b3_IMAG01_3.jpg\n",
      " writing to 20220804112251_d97bd1e1b38f0cd022e4e3639d2926b3_IMAG01_3.jpg(182,530 bytes)\n"
     ]
    }
   ],
   "source": [
    "import requests\n",
    "import os\n",
    "\n",
    "req_header = {\n",
    "    'referer':'https://comic.naver.com/webtoon/detail?titleId=798173&no=5&amp;weekday=thu'\n",
    "}\n",
    "img_urls = [\n",
    "    'https://image-comic.pstatic.net/webtoon/798173/5/20220804112251_d97bd1e1b38f0cd022e4e3639d2926b3_IMAG01_1.jpg',\n",
    "    'https://image-comic.pstatic.net/webtoon/798173/5/20220804112251_d97bd1e1b38f0cd022e4e3639d2926b3_IMAG01_2.jpg',\n",
    "    'https://image-comic.pstatic.net/webtoon/798173/5/20220804112251_d97bd1e1b38f0cd022e4e3639d2926b3_IMAG01_3.jpg'\n",
    "]\n",
    "for img_url in img_urls:\n",
    "    res = requests.get(img_url, headers=req_header)\n",
    "    if res.ok: #200\n",
    "        # content 속성은 binary data\n",
    "        img_data = res.content\n",
    "        # url에서 file name 을 추출하기\n",
    "        file_name = os.path.basename(img_url)\n",
    "        print(file_name)\n",
    "        # binary data를 file로 저장하기\n",
    "        with open(file_name, 'wb') as file:\n",
    "            print(f' writing to {file_name}({len(img_data):,} bytes)')\n",
    "            file.write(img_data)\n",
    "    else:\n",
    "        print(res.status_code)"
   ]
  },
  {
   "cell_type": "markdown",
   "id": "e8b00a04",
   "metadata": {},
   "source": [
    "#### 현재 요청된 페이지의 image 모두 다운로드 해보기"
   ]
  },
  {
   "cell_type": "code",
   "execution_count": 65,
   "id": "b30f7bf5",
   "metadata": {},
   "outputs": [
    {
     "name": "stdout",
     "output_type": "stream",
     "text": [
      "57\n",
      "57\n"
     ]
    }
   ],
   "source": [
    "import requests\n",
    "import os\n",
    "\n",
    "url = 'https://comic.naver.com/webtoon/detail?titleId=798173&no=5&amp;weekday=thu'\n",
    "req_header = {\n",
    "    'referer': url\n",
    "}\n",
    "res = requests.get(url)\n",
    "if res.ok:\n",
    "    soup = BeautifulSoup(res.text, 'html.parser')\n",
    "    print(len(soup.select(\"img[src*='IMAG01']\")))\n",
    "    print(len(soup.select(\"div#sectionContWide img[src$='.jpg']\")))\n",
    "    \n",
    "    img_tags = soup.select(\"img[src*='IMAG01']\")\n",
    "    img_url_list = []\n",
    "    for img_tag in img_tags:\n",
    "        img_url_list.append(img_tag['src'])\n",
    "    \n",
    "    #img 폴더가 없다면 생성하세요\n",
    "    if not os.path.isdir('img'):\n",
    "            os.mkdir('img')\n",
    "            \n",
    "    for img_url in img_url_list:\n",
    "        res = requests.get(img_url, headers=req_header)\n",
    "        if res.ok:\n",
    "            img_data = res.content\n",
    "            file_name = os.path.basename(img_url)\n",
    "            dir_name = os.path.join('img',file_name)\n",
    "            #print(dir_name)\n",
    "            with open(dir_name, 'wb') as file:\n",
    "                file.write(img_data)\n",
    "        else:\n",
    "            print(f'Binary Data 가져오기 Error 발생 에러코드 = {res.status_code}')        \n",
    "else:\n",
    "    print(f'Error 발생 에러코드 = {res.status_code}')"
   ]
  },
  {
   "cell_type": "markdown",
   "id": "de947bd6",
   "metadata": {},
   "source": [
    "### image 다운로드 함수 선언하기\n",
    "* os.mkdir vs ok.makedirs 함수 비교\n",
    "- os.mkdir은 폴더를 1개만 생성이 가능\n",
    "- os.makedirs 'a/b/c' 하위 디렉토리를 여러개 생성이 가능"
   ]
  },
  {
   "cell_type": "code",
   "execution_count": 60,
   "id": "3a09d11c",
   "metadata": {},
   "outputs": [],
   "source": [
    "def download_image(title,url):\n",
    "    import requests\n",
    "    from bs4 import BeautifulSoup\n",
    "    import os\n",
    "    \n",
    "    req_header = {\n",
    "        'referer': url\n",
    "    }\n",
    "    \n",
    "    res = requests.get(url)\n",
    "    print(res.ok)\n",
    "    if res.ok:\n",
    "        soup = BeautifulSoup(res.text, 'html.parser')\n",
    "        \n",
    "        imgurl_list = []\n",
    "        print(len(soup.select('img[src*=\"IMAG01\"]')))\n",
    "        for img_tag in soup.select('img[src*=\"IMAG01\"]'):\n",
    "            imgurl_list.append(img_tag['src'])\n",
    "            #print(img_tag)\n",
    "                \n",
    "        #image를 저장할 디렉토리 생성\n",
    "        \n",
    "        #dir_name = 'img/' + title\n",
    "        dir_name = os.path.join('img',title)\n",
    "        print(dir_name)\n",
    "        if not os.path.isdir(dir_name):\n",
    "            os.makedirs(dir_name)\n",
    "        \n",
    "        for idx,img_url in enumerate(imgurl_list,1):\n",
    "            print(idx, img_url)\n",
    "            res = requests.get(img_url, headers=req_header)\n",
    "            #print(res.status_code)\n",
    "            if res.ok:\n",
    "                img_data = res.content\n",
    "                #print(len(img_data))\n",
    "                file_name = os.path.basename(img_url)\n",
    "                #print(file_name)\n",
    "                save_name = os.path.join(dir_name,file_name) #dir_name + '/' + file_name\n",
    "                with open(save_name,'wb') as file:\n",
    "                    print(f'{file_name} (파일크기 : {len(img_data)}))')\n",
    "                    file.write(img_data)\n",
    "    else:\n",
    "        print(f'Error 발생 에러코드 = {res.status_code}')                        "
   ]
  },
  {
   "cell_type": "code",
   "execution_count": 63,
   "id": "39d5f015",
   "metadata": {},
   "outputs": [],
   "source": [
    "#https://comic.naver.com/webtoon/detail?titleId=748105&no=2&week=finish\n",
    "download_image('독립일기','https://comic.naver.com/webtoon/detail?titleId=748105&no=2&week=finish')"
   ]
  },
  {
   "cell_type": "code",
   "execution_count": 64,
   "id": "a9e5ccbd",
   "metadata": {},
   "outputs": [],
   "source": [
    "download_image('우영우','https://comic.naver.com/webtoon/detail?titleId=798173&no=5&amp;weekday=thu')"
   ]
  },
  {
   "cell_type": "markdown",
   "id": "2ac9f5f9",
   "metadata": {},
   "source": [
    "### 파일 업로드 하기\n",
    "* http://httpbin.org/post 업로드 요청을 할 수 있는 url"
   ]
  },
  {
   "cell_type": "code",
   "execution_count": 72,
   "id": "04da4790",
   "metadata": {},
   "outputs": [],
   "source": [
    "import requests\n",
    "\n",
    "upload_files_dict = {\n",
    "    'img1': open('img/f1.jpg','rb'),\n",
    "    'img2': open('img/f2.jpg','rb'),\n",
    "}\n",
    "upload_url = 'http://httpbin.org/post'\n",
    "res = requests.post(upload_url, files=upload_files_dict)\n",
    "print(res.status_code)\n",
    "res.json()['files']['img1']"
   ]
  },
  {
   "cell_type": "markdown",
   "id": "7ad65f12",
   "metadata": {},
   "source": [
    "### 번역 Open API 이용하기\n",
    "* urllib 를 사용한 예제"
   ]
  },
  {
   "cell_type": "code",
   "execution_count": 73,
   "id": "abbb0ebf",
   "metadata": {},
   "outputs": [
    {
     "name": "stdout",
     "output_type": "stream",
     "text": [
      "{\"message\":{\"@type\":\"response\",\"@service\":\"naverservice.nmt.proxy\",\"@version\":\"1.0.0\",\"result\":{\"srcLangType\":\"en\",\"tarLangType\":\"ko\",\"translatedText\":\"어제 나의 모든 문제들은 너무 멀게만 보였다\",\"engineType\":\"N2MT\"}}}\n"
     ]
    }
   ],
   "source": [
    "import os\n",
    "import sys\n",
    "import urllib.request\n",
    "\n",
    "client_id = \"tCYiapKxMukSDtK7RsD_\" # 개발자센터에서 발급받은 Client ID 값\n",
    "client_secret = \"Ch_PDG7SUv\" # 개발자센터에서 발급받은 Client Secret 값\n",
    "encText = urllib.parse.quote(\"Yesterday all my troubles seemed so far away\")\n",
    "data = \"source=en&target=ko&text=\" + encText\n",
    "url = \"https://openapi.naver.com/v1/papago/n2mt\"\n",
    "\n",
    "request = urllib.request.Request(url)\n",
    "request.add_header(\"X-Naver-Client-Id\",client_id)\n",
    "request.add_header(\"X-Naver-Client-Secret\",client_secret)\n",
    "\n",
    "response = urllib.request.urlopen(request, data=data.encode(\"utf-8\"))\n",
    "rescode = response.getcode()\n",
    "if(rescode==200):\n",
    "    response_body = response.read()\n",
    "    print(response_body.decode('utf-8'))\n",
    "else:\n",
    "    print(\"Error Code:\" + rescode)\n"
   ]
  },
  {
   "cell_type": "markdown",
   "id": "b7d984a6",
   "metadata": {},
   "source": [
    "* requests를 사용한 코드로 변경하기\n",
    "* [requests docs](https://requests.readthedocs.io/en/latest/user/quickstart/)\n",
    "* [PreparedRequest](https://requests.readthedocs.io/en/latest/api/#requests.PreparedRequest)"
   ]
  },
  {
   "cell_type": "code",
   "execution_count": 80,
   "id": "727b427b",
   "metadata": {},
   "outputs": [
    {
     "name": "stdout",
     "output_type": "stream",
     "text": [
      "200\n",
      "<class 'dict'>\n",
      "<class 'str'>\n",
      "{'message': {'@type': 'response', '@service': 'naverservice.nmt.proxy', '@version': '1.0.0', 'result': {'srcLangType': 'en', 'tarLangType': 'ko', 'translatedText': '어제 나의 모든 문제들은 너무 멀게만 보였다', 'engineType': 'N2MT'}}}\n"
     ]
    }
   ],
   "source": [
    "from requests import Request, Session\n",
    "\n",
    "client_id = \"tCYiapKxMukSDtK7RsD_\" # 개발자센터에서 발급받은 Client ID 값\n",
    "client_secret = \"Ch_PDG7SUv\" # 개발자센터에서 발급받은 Client Secret 값\n",
    "\n",
    "req_header = {\n",
    "    \"X-Naver-Client-Id\":client_id,\n",
    "    \"X-Naver-Client-Secret\":client_secret\n",
    "}\n",
    "trans_text = \"Yesterday all my troubles seemed so far away\"\n",
    "req_param = {\n",
    "    \"source\":\"en\",\n",
    "    \"target\":\"ko\",\n",
    "    \"text\":trans_text\n",
    "}\n",
    "url = \"https://openapi.naver.com/v1/papago/n2mt\"\n",
    "\n",
    "session = Session()\n",
    "request = Request('POST', url, data=req_param, headers=req_header)\n",
    "prepped = request.prepare()\n",
    "response = session.send(prepped)\n",
    "print(response.status_code)\n",
    "if response.ok:\n",
    "    print(type(response.json()))\n",
    "    print(type(response.text))\n",
    "    print(response.json())\n",
    "    result_text = response.json()['message']['result']['translatedText']\n",
    "    print(result_text)"
   ]
  }
 ],
 "metadata": {
  "kernelspec": {
   "display_name": "Python 3 (ipykernel)",
   "language": "python",
   "name": "python3"
  },
  "language_info": {
   "codemirror_mode": {
    "name": "ipython",
    "version": 3
   },
   "file_extension": ".py",
   "mimetype": "text/x-python",
   "name": "python",
   "nbconvert_exporter": "python",
   "pygments_lexer": "ipython3",
   "version": "3.10.9"
  }
 },
 "nbformat": 4,
 "nbformat_minor": 5
}
