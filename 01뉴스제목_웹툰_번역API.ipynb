{
 "cells": [
  {
   "cell_type": "markdown",
   "id": "eb0bfa44",
   "metadata": {},
   "source": [
    "## 1. 뉴스제목 가져오기\n",
    "* user-agent 요청헤더를 반드시 설정해야 한다."
   ]
  },
  {
   "cell_type": "code",
   "execution_count": 1,
   "id": "f0d27781",
   "metadata": {},
   "outputs": [
    {
     "name": "stdout",
     "output_type": "stream",
     "text": [
      "Name: requests\n",
      "Version: 2.28.1\n",
      "Summary: Python HTTP for Humans.\n",
      "Home-page: https://requests.readthedocs.io\n",
      "Author: Kenneth Reitz\n",
      "Author-email: me@kennethreitz.org\n",
      "License: Apache 2.0\n",
      "Location: c:\\users\\vega2\\anaconda3\\lib\\site-packages\n",
      "Requires: certifi, charset-normalizer, idna, urllib3\n",
      "Required-by: anaconda-client, anaconda-project, conda, conda-build, conda-repo-cli, conda_package_streaming, cookiecutter, datashader, huggingface-hub, jupyterlab_server, panel, pooch, PyGithub, requests-file, requests-toolbelt, Sphinx, tldextract, transformers, webdriver-manager\n"
     ]
    }
   ],
   "source": [
    "!pip show requests"
   ]
  },
  {
   "cell_type": "code",
   "execution_count": 2,
   "id": "bf80a429",
   "metadata": {},
   "outputs": [],
   "source": [
    "import requests\n",
    "import bs4\n",
    "from bs4 import BeautifulSoup"
   ]
  },
  {
   "cell_type": "code",
   "execution_count": 3,
   "id": "9788d6ac",
   "metadata": {},
   "outputs": [
    {
     "name": "stdout",
     "output_type": "stream",
     "text": [
      "requests ver  2.28.1\n",
      "beautifulsoup  4.11.1\n"
     ]
    }
   ],
   "source": [
    "print('requests ver ' , requests.__version__)\n",
    "print('beautifulsoup ', bs4.__version__)"
   ]
  },
  {
   "cell_type": "code",
   "execution_count": 34,
   "id": "94c12fd6",
   "metadata": {},
   "outputs": [
    {
     "name": "stdout",
     "output_type": "stream",
     "text": [
      "<class 'requests.models.Response'>\n",
      "200\n",
      "31\n",
      " https://n.news.naver.com/mnews/article/031/0000793332?sid=105\n",
      "이중근 부영그룹 회장, KAIST에 200억 기부 https://n.news.naver.com/mnews/article/031/0000793332?sid=105\n",
      " https://n.news.naver.com/mnews/article/009/0005224627?sid=105\n",
      "“김범수 ‘진짜 쇄신’ 보고싶다”…카카오 노조, 피켓시위 시작했다 https://n.news.naver.com/mnews/article/009/0005224627?sid=105\n",
      " https://n.news.naver.com/mnews/article/023/0003802834?sid=105\n",
      "카카오 내홍에...김정호 경영지원총괄, ‘셀프 징계’ 요청 https://n.news.naver.com/mnews/article/023/0003802834?sid=105\n",
      " https://n.news.naver.com/mnews/article/277/0005349733?sid=105\n",
      "\"사이버 보안 핵심은 인재\"…내년 예산 20%↑ https://n.news.naver.com/mnews/article/277/0005349733?sid=105\n",
      " https://n.news.naver.com/mnews/article/001/0014369207?sid=105\n",
      "다나와 e스포츠, 배틀그라운드 국제대회 'PGC 2023' 우승 https://n.news.naver.com/mnews/article/001/0014369207?sid=105\n",
      " https://n.news.naver.com/mnews/article/366/0000952304?sid=105\n",
      "국제과학비즈니스벨트에 BRT 정류소 생긴다 https://n.news.naver.com/mnews/article/366/0000952304?sid=105\n",
      " https://n.news.naver.com/mnews/article/001/0014369663?sid=105\n",
      "네이버 \"프리미엄 유료 콘텐츠 결제 건수·거래액 급증\" https://n.news.naver.com/mnews/article/001/0014369663?sid=105\n",
      " https://n.news.naver.com/mnews/article/001/0014369658?sid=105\n",
      "LGU+, 광복절 캠페인으로 대한민국광고대상 금상…SKT 은상(종합) https://n.news.naver.com/mnews/article/001/0014369658?sid=105\n",
      "당정, 중대재해처벌법 50인 미만 기업 2년 더 유예 추진 https://n.news.naver.com/mnews/article/023/0003802698?sid=100\n",
      "민주 \"다음 주부터 인재영입식…1호 인재는 당 밖 인사\" https://n.news.naver.com/mnews/article/421/0007213769?sid=100\n",
      "尹, 오늘 중폭 개각…총선 출마자 대신 관료·전문가 채운다 [용산실록] https://n.news.naver.com/mnews/article/016/0002233631?sid=100\n",
      "中, 대만인들에 ‘저가 방중관광’…대만 “노골적 선거 개입” 대응 https://n.news.naver.com/mnews/article/016/0002233876?sid=104\n",
      "또 규모 6.8 지진…'불의 고리' 필리핀 3일 연속 강진[자막뉴스] https://n.news.naver.com/mnews/article/055/0001111320?sid=104\n",
      "비트코인에 산타 오셨네…4만불 돌파하자 관련주 급등 https://n.news.naver.com/mnews/article/008/0004969497?sid=101\n",
      "한화 \"2027년 이차전지 매출 1.2조원 달성…종합솔루션 제공\" https://n.news.naver.com/mnews/article/001/0014369529?sid=101\n",
      "홍콩 지자 이번엔 日 닛케이 ELS ‘인기’… “강세장 투자 유의해야” https://n.news.naver.com/mnews/article/366/0000952132?sid=101\n",
      "'X신' 논란→진흙탕 싸움 번졌다…대표까지 등판, 카카오에 무슨 일이 https://n.news.naver.com/mnews/article/008/0004969463?sid=105\n",
      "\"사이버 보안 핵심은 인재\"…내년 예산 20%↑ https://n.news.naver.com/mnews/article/277/0005349733?sid=105\n",
      "여에스더, 식약처 前 과장에 고발 당해…“의사 신분 이용” https://n.news.naver.com/mnews/article/081/0003413613?sid=102\n",
      "끼어들기에 격분한 40대..차주 쫓아가 흉기 휘두른 뒤 '극단 선택' https://n.news.naver.com/mnews/article/660/0000050677?sid=102\n",
      "서울시, 내일 밤부터 세계 최초 심야 자율주행버스 정기 운행 https://n.news.naver.com/mnews/article/052/0001967792?sid=102\n",
      "광주·전남 아침 기온 ‘뚝’…낮부터 추위 누그러져[날씨] https://n.news.naver.com/mnews/article/056/0011614614?sid=103\n",
      "인천시 지역 문화유산 활용 행사 인기…내년에 총 7개 사업 진행 https://n.news.naver.com/mnews/article/014/0005109644?sid=103\n"
     ]
    }
   ],
   "source": [
    "# IT/과학 뉴스\n",
    "url = 'https://news.naver.com/main/main.naver'\n",
    "# 요청 파라미터\n",
    "req_param = {\n",
    "    'mode':'LSD',\n",
    "    'mid':'shm',\n",
    "    'sid1':'105'\n",
    "}\n",
    "# 요청 헤더 설정 : 브라우저 정보\n",
    "req_header = {\n",
    "    'user-agent': 'Mozilla/5.0 (Windows NT 10.0; Win64; x64) AppleWebKit/537.36 (KHTML, like Gecko) Chrome/104.0.0.0 Safari/537.36'\n",
    "}\n",
    "res = requests.get(url, params=req_param, headers=req_header)\n",
    "print(type(res))\n",
    "print(res.status_code)\n",
    "if res.ok:\n",
    "    html = res.text\n",
    "    soup = BeautifulSoup(html, 'html.parser')\n",
    "    \n",
    "    '''\n",
    "    <div class=\"sh_text\"> div.sh_text\n",
    "        <a href=\"https://n.news.naver.com/mnews/article/\"> a[href*='n.news.naver.com/mnews/article']\n",
    "    '''\n",
    "    print(len(soup.select(\"a[href*='n.news.naver.com/mnews/article']\")))\n",
    "    a_tags = soup.select(\"a[href*='n.news.naver.com/mnews/article']\")\n",
    "    for a_tag in a_tags:\n",
    "#         print('&&&&----')\n",
    "#         print(a_tag)\n",
    "#         print('----')\n",
    "        title = a_tag.text.strip()\n",
    "        href = a_tag['href']\n",
    "        print(title, href)"
   ]
  },
  {
   "cell_type": "code",
   "execution_count": null,
   "id": "1c56302a",
   "metadata": {},
   "outputs": [],
   "source": []
  },
  {
   "cell_type": "markdown",
   "id": "323196dc",
   "metadata": {},
   "source": [
    "### 2. Image 다운로드\n",
    "* referer 요청 헤더를 반드시 설정해야 한다."
   ]
  },
  {
   "cell_type": "code",
   "execution_count": 49,
   "id": "e39dce7a",
   "metadata": {},
   "outputs": [],
   "source": [
    "import requests\n",
    "import os"
   ]
  },
  {
   "cell_type": "code",
   "execution_count": 61,
   "id": "c72d6cb1",
   "metadata": {},
   "outputs": [
    {
     "name": "stdout",
     "output_type": "stream",
     "text": [
      "20220804112251_d97bd1e1b38f0cd022e4e3639d2926b3_IMAG01_1.jpg\n",
      " writing to 20220804112251_d97bd1e1b38f0cd022e4e3639d2926b3_IMAG01_1.jpg(299,319 bytes)\n",
      "20220804112251_d97bd1e1b38f0cd022e4e3639d2926b3_IMAG01_2.jpg\n",
      " writing to 20220804112251_d97bd1e1b38f0cd022e4e3639d2926b3_IMAG01_2.jpg(163,333 bytes)\n",
      "20220804112251_d97bd1e1b38f0cd022e4e3639d2926b3_IMAG01_3.jpg\n",
      " writing to 20220804112251_d97bd1e1b38f0cd022e4e3639d2926b3_IMAG01_3.jpg(182,530 bytes)\n"
     ]
    }
   ],
   "source": [
    "req_header = {\n",
    "    'referer':'https://comic.naver.com/webtoon/detail?titleId=798173&no=5&amp;weekday=thu'\n",
    "}\n",
    "img_urls = [\n",
    "    'https://image-comic.pstatic.net/webtoon/798173/5/20220804112251_d97bd1e1b38f0cd022e4e3639d2926b3_IMAG01_1.jpg',\n",
    "    'https://image-comic.pstatic.net/webtoon/798173/5/20220804112251_d97bd1e1b38f0cd022e4e3639d2926b3_IMAG01_2.jpg',\n",
    "    'https://image-comic.pstatic.net/webtoon/798173/5/20220804112251_d97bd1e1b38f0cd022e4e3639d2926b3_IMAG01_3.jpg'\n",
    "]\n",
    "for img_url in img_urls:\n",
    "    res = requests.get(img_url, headers=req_header)\n",
    "    if res.ok:\n",
    "        img_data = res.content\n",
    "        file_name = os.path.basename(img_url)\n",
    "        print(file_name)\n",
    "        # binary data를 file로 저장하기\n",
    "        with open(file_name, 'wb') as file:\n",
    "            print(f' writing to {file_name}({len(img_data):,} bytes)')\n",
    "            file.write(img_data)"
   ]
  },
  {
   "cell_type": "markdown",
   "id": "e8b00a04",
   "metadata": {},
   "source": [
    "#### 현재 요청된 페이지의 image 모두 다운로드 해보기"
   ]
  },
  {
   "cell_type": "code",
   "execution_count": 71,
   "id": "b30f7bf5",
   "metadata": {},
   "outputs": [
    {
     "name": "stdout",
     "output_type": "stream",
     "text": [
      "200 True\n",
      "68\n"
     ]
    }
   ],
   "source": [
    "  "
   ]
  },
  {
   "cell_type": "markdown",
   "id": "2ac9f5f9",
   "metadata": {},
   "source": [
    "### 파일 업로드 하기\n",
    "* http://httpbin.org/post 업로드 요청을 할 수 있는 url"
   ]
  },
  {
   "cell_type": "code",
   "execution_count": null,
   "id": "04da4790",
   "metadata": {},
   "outputs": [],
   "source": []
  },
  {
   "cell_type": "markdown",
   "id": "7ad65f12",
   "metadata": {},
   "source": [
    "### 번역 Open API 이용하기\n",
    "* urllib 를 사용한 예제"
   ]
  },
  {
   "cell_type": "code",
   "execution_count": 77,
   "id": "abbb0ebf",
   "metadata": {},
   "outputs": [
    {
     "name": "stdout",
     "output_type": "stream",
     "text": [
      "{\"message\":{\"result\":{\"srcLangType\":\"en\",\"tarLangType\":\"ko\",\"translatedText\":\"어제 나의 모든 고민은 너무 멀리 있는 것 같았다.\",\"engineType\":\"N2MT\",\"pivot\":null,\"dict\":null,\"tarDict\":null},\"@type\":\"response\",\"@service\":\"naverservice.nmt.proxy\",\"@version\":\"1.0.0\"}}\n"
     ]
    }
   ],
   "source": [
    "# ZAZjlfXS4P5FW5DtE0wg\n",
    "# RNbe1ikysg\n",
    "import os\n",
    "import sys\n",
    "import urllib.request\n",
    "\n",
    "client_id = \"ZAZjlfXS4P5FW5DtE0wg\" # 개발자센터에서 발급받은 Client ID 값\n",
    "client_secret = \"RNbe1ikysg\" # 개발자센터에서 발급받은 Client Secret 값\n",
    "encText = urllib.parse.quote(\"Yesterday all my troubles seemed so far away\")\n",
    "data = \"source=en&target=ko&text=\" + encText\n",
    "url = \"https://openapi.naver.com/v1/papago/n2mt\"\n",
    "\n",
    "request = urllib.request.Request(url)\n",
    "request.add_header(\"X-Naver-Client-Id\",client_id)\n",
    "request.add_header(\"X-Naver-Client-Secret\",client_secret)\n",
    "\n",
    "response = urllib.request.urlopen(request, data=data.encode(\"utf-8\"))\n",
    "rescode = response.getcode()\n",
    "if(rescode==200):\n",
    "    response_body = response.read()\n",
    "    print(response_body.decode('utf-8'))\n",
    "else:\n",
    "    print(\"Error Code:\" + rescode)\n"
   ]
  },
  {
   "cell_type": "markdown",
   "id": "b7d984a6",
   "metadata": {},
   "source": [
    "* requests를 사용한 코드로 변경하기\n",
    "* [requests docs](https://requests.readthedocs.io/en/latest/user/quickstart/)"
   ]
  },
  {
   "cell_type": "code",
   "execution_count": null,
   "id": "727b427b",
   "metadata": {},
   "outputs": [],
   "source": []
  }
 ],
 "metadata": {
  "kernelspec": {
   "display_name": "Python 3 (ipykernel)",
   "language": "python",
   "name": "python3"
  },
  "language_info": {
   "codemirror_mode": {
    "name": "ipython",
    "version": 3
   },
   "file_extension": ".py",
   "mimetype": "text/x-python",
   "name": "python",
   "nbconvert_exporter": "python",
   "pygments_lexer": "ipython3",
   "version": "3.10.9"
  }
 },
 "nbformat": 4,
 "nbformat_minor": 5
}
