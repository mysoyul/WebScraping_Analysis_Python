{
 "cells": [
  {
   "cell_type": "markdown",
   "id": "e189201a",
   "metadata": {},
   "source": [
    "### 날씨 데이터 파싱\n",
    "* [기상청날씨데이터](http://www.kma.go.kr/weather/forecast/mid-term-rss3.jsp)\n",
    "* 파싱한 데이터를 dict, list 자료구조에 저장\n",
    "* 자료구조의 데이터를 json 파일로 저장\n",
    "* BeautifulSoup 의 find(), find_all(), select(), select_one() 함수 비교\n",
    "1. find() 와 select_one() 함수는 'bs4.element.Tag' 타입으로 1개의 태그를 반환함\n",
    "2. find_all() 과 select() 함수는 'bs4.element.ResultSet' 타입으로 여러개의 태그를 반환함"
   ]
  },
  {
   "cell_type": "code",
   "execution_count": 1,
   "id": "85ac3729",
   "metadata": {},
   "outputs": [
    {
     "name": "stdout",
     "output_type": "stream",
     "text": [
      "Name: lxml\n",
      "Version: 4.9.1\n",
      "Summary: Powerful and Pythonic XML processing library combining libxml2/libxslt with the ElementTree API.\n",
      "Home-page: https://lxml.de/\n",
      "Author: lxml dev team\n",
      "Author-email: lxml-dev@lxml.de\n",
      "License: BSD\n",
      "Location: c:\\users\\vega2\\anaconda3\\lib\\site-packages\n",
      "Requires: \n",
      "Required-by: nbconvert, parsel, Scrapy\n"
     ]
    }
   ],
   "source": [
    "!pip3 show lxml"
   ]
  },
  {
   "cell_type": "code",
   "execution_count": 4,
   "id": "e26ac35c",
   "metadata": {},
   "outputs": [
    {
     "name": "stdout",
     "output_type": "stream",
     "text": [
      "200\n",
      "<class 'bs4.element.Tag'> <title>기상청 육상 중기예보</title> 기상청 육상 중기예보\n",
      "<class 'bs4.element.ResultSet'> [<title>기상청 육상 중기예보</title>, <title>전국 육상 중기예보 - 2023년 12월 04일 (월)요일 06:00 발표</title>, <title>전국 육상중기예보</title>]\n",
      "==find()  <class 'bs4.element.Tag'>\n",
      "==select_one()  <class 'bs4.element.Tag'>\n",
      "==find_all()  <class 'bs4.element.ResultSet'>\n",
      "==select()  <class 'bs4.element.ResultSet'>\n"
     ]
    }
   ],
   "source": [
    "import requests\n",
    "from bs4 import BeautifulSoup\n",
    "\n",
    "url = 'http://www.kma.go.kr/weather/forecast/mid-term-rss3.jsp'\n",
    "\n",
    "res = requests.get(url)\n",
    "print(res.status_code)\n",
    "\n",
    "if res.ok:\n",
    "    soup = BeautifulSoup(res.text, features='xml')\n",
    "    \n",
    "    title_tag = soup.find('title')\n",
    "    print(type(title_tag), title_tag, title_tag.text)\n",
    "    \n",
    "    title_all_tag = soup.find_all('title')\n",
    "    print(type(title_all_tag), title_all_tag)\n",
    "    \n",
    "    location_tag = soup.find('location', attrs={'wl_ver':3})\n",
    "    print('==find() ', type(location_tag))\n",
    "\n",
    "    location_tag2 = soup.select_one(\"location[wl_ver='3']\")\n",
    "    print('==select_one() ',type(location_tag2))\n",
    "\n",
    "    loc_tag_all = soup.findAll('location', attrs={'wl_ver':3})\n",
    "    print('==find_all() ', type(loc_tag_all))\n",
    "\n",
    "    loc_tag_all2 = soup.select(\"location[wl_ver='3']\")\n",
    "    print('==select() ', type(loc_tag_all2))"
   ]
  },
  {
   "cell_type": "code",
   "execution_count": null,
   "id": "85fbb0b1",
   "metadata": {},
   "outputs": [],
   "source": [
    "'''\n",
    "<location wl_ver=\"3\">\n",
    "    <province>서울ㆍ인천ㆍ경기도</province>\n",
    "    <city>서울</city>\n",
    "    <data>\n",
    "        <mode>A02</mode>\n",
    "        <tmEf>2022-08-28 00:00</tmEf>\n",
    "        <wf>맑음</wf>\n",
    "        <tmn>18</tmn>\n",
    "        <tmx>28</tmx>\n",
    "        <reliability/>\n",
    "        <rnSt>0</rnSt>\n",
    "    </data>\n",
    "    <data>\n",
    "        <mode>A02</mode>\n",
    "        <tmEf>2022-08-28 12:00</tmEf>\n",
    "        <wf>구름많음</wf>\n",
    "        <tmn>18</tmn>\n",
    "        <tmx>28</tmx>\n",
    "        <reliability/>\n",
    "        <rnSt>30</rnSt>\n",
    "    </data>\n",
    "</location>\n",
    "{\n",
    "   \"province\":\"서울ㆍ인천ㆍ경기도\",\n",
    "   \"city\":\"서울\",\n",
    "   \"datas\":[{\"mode:\"A02”,\"tmEf”:\"2022-01-31 00:00”,\"wf\":\"맑음\"},\n",
    "            {\"mode:\"A02”,\"tmEf”:\"2022-01-31 12:00”,\"wf\":\"구름많음\"},{},{}]\n",
    "}\n",
    "'''"
   ]
  },
  {
   "cell_type": "markdown",
   "id": "6b1b22a2",
   "metadata": {},
   "source": [
    "#### 특정 City의 날씨정보를 자료구조에 저장"
   ]
  },
  {
   "cell_type": "code",
   "execution_count": 5,
   "id": "b243067b",
   "metadata": {},
   "outputs": [
    {
     "name": "stdout",
     "output_type": "stream",
     "text": [
      "{'province': '서울ㆍ인천ㆍ경기도', 'city': '서울', 'datas': [{'mode': 'A02', 'tmEf': '2023-12-07 00:00', 'wf': '맑음', 'tmn': '-1', 'tmx': '9'}, {'mode': 'A02', 'tmEf': '2023-12-07 12:00', 'wf': '맑음', 'tmn': '-1', 'tmx': '9'}, {'mode': 'A02', 'tmEf': '2023-12-08 00:00', 'wf': '맑음', 'tmn': '5', 'tmx': '15'}, {'mode': 'A02', 'tmEf': '2023-12-08 12:00', 'wf': '맑음', 'tmn': '5', 'tmx': '15'}, {'mode': 'A02', 'tmEf': '2023-12-09 00:00', 'wf': '맑음', 'tmn': '8', 'tmx': '12'}, {'mode': 'A02', 'tmEf': '2023-12-09 12:00', 'wf': '맑음', 'tmn': '8', 'tmx': '12'}, {'mode': 'A02', 'tmEf': '2023-12-10 00:00', 'wf': '구름많음', 'tmn': '0', 'tmx': '7'}, {'mode': 'A02', 'tmEf': '2023-12-10 12:00', 'wf': '구름많음', 'tmn': '0', 'tmx': '7'}, {'mode': 'A02', 'tmEf': '2023-12-11 00:00', 'wf': '흐림', 'tmn': '1', 'tmx': '7'}, {'mode': 'A02', 'tmEf': '2023-12-11 12:00', 'wf': '흐림', 'tmn': '1', 'tmx': '7'}, {'mode': 'A01', 'tmEf': '2023-12-12 00:00', 'wf': '구름많음', 'tmn': '2', 'tmx': '8'}, {'mode': 'A01', 'tmEf': '2023-12-13 00:00', 'wf': '구름많음', 'tmn': '0', 'tmx': '6'}, {'mode': 'A01', 'tmEf': '2023-12-14 00:00', 'wf': '흐림', 'tmn': '-2', 'tmx': '6'}]}\n"
     ]
    }
   ],
   "source": [
    "import requests\n",
    "from bs4 import BeautifulSoup\n",
    "\n",
    "url = 'http://www.kma.go.kr/weather/forecast/mid-term-rss3.jsp'\n",
    "\n",
    "res = requests.get(url)\n",
    "if res.ok:\n",
    "    soup = BeautifulSoup(res.text, features=\"xml\")\n",
    "    location_tag = soup.find('location', attrs={'wl_ver':3})\n",
    "    location_dict = {} #dict()\n",
    "    \n",
    "    # \"province\":\"서울ㆍ인천ㆍ경기도\"\n",
    "    location_dict['province'] = location_tag.find('province').text\n",
    "    # \"city\":\"서울\"\n",
    "    location_dict['city'] = location_tag.find('city').text\n",
    "\n",
    "    data_tags = location_tag.find_all('data')\n",
    "    data_list = []\n",
    "    for data_tag in data_tags:\n",
    "        data_dict = {}\n",
    "        # {\"mode:\"A02\",\"tmEf\":\"2022-01-31 00:00\",\"wf\":\"맑음\",\"tmn\":\"-2\",\"tmx\":\"0\"}\n",
    "        data_dict['mode'] = data_tag.find('mode').text\n",
    "        data_dict['tmEf'] = data_tag.find('tmEf').text\n",
    "        data_dict['wf'] = data_tag.find('wf').text\n",
    "        data_dict['tmn'] = data_tag.find('tmn').text\n",
    "        data_dict['tmx'] = data_tag.find('tmx').text\n",
    "        data_list.append(data_dict)\n",
    "\n",
    "    location_dict['datas'] = data_list\n",
    "    print(location_dict)"
   ]
  },
  {
   "cell_type": "markdown",
   "id": "7c4e0ce9",
   "metadata": {},
   "source": [
    "#### 전국의 날씨 데이터 파싱"
   ]
  },
  {
   "cell_type": "code",
   "execution_count": 6,
   "id": "f6395c39",
   "metadata": {},
   "outputs": [
    {
     "name": "stdout",
     "output_type": "stream",
     "text": [
      "41\n",
      "[{'province': '서울ㆍ인천ㆍ경기도', 'city': '서울', 'datas': [{'mode': 'A02', 'tmEf': '2023-12-07 00:00', 'wf': '맑음', 'tmn': '-1', 'tmx': '9'}, {'mode': 'A02', 'tmEf': '2023-12-07 12:00', 'wf': '맑음', 'tmn': '-1', 'tmx': '9'}, {'mode': 'A02', 'tmEf': '2023-12-08 00:00', 'wf': '맑음', 'tmn': '5', 'tmx': '15'}, {'mode': 'A02', 'tmEf': '2023-12-08 12:00', 'wf': '맑음', 'tmn': '5', 'tmx': '15'}, {'mode': 'A02', 'tmEf': '2023-12-09 00:00', 'wf': '맑음', 'tmn': '8', 'tmx': '12'}, {'mode': 'A02', 'tmEf': '2023-12-09 12:00', 'wf': '맑음', 'tmn': '8', 'tmx': '12'}, {'mode': 'A02', 'tmEf': '2023-12-10 00:00', 'wf': '구름많음', 'tmn': '0', 'tmx': '7'}, {'mode': 'A02', 'tmEf': '2023-12-10 12:00', 'wf': '구름많음', 'tmn': '0', 'tmx': '7'}, {'mode': 'A02', 'tmEf': '2023-12-11 00:00', 'wf': '흐림', 'tmn': '1', 'tmx': '7'}, {'mode': 'A02', 'tmEf': '2023-12-11 12:00', 'wf': '흐림', 'tmn': '1', 'tmx': '7'}, {'mode': 'A01', 'tmEf': '2023-12-12 00:00', 'wf': '구름많음', 'tmn': '2', 'tmx': '8'}, {'mode': 'A01', 'tmEf': '2023-12-13 00:00', 'wf': '구름많음', 'tmn': '0', 'tmx': '6'}, {'mode': 'A01', 'tmEf': '2023-12-14 00:00', 'wf': '흐림', 'tmn': '-2', 'tmx': '6'}]}, {'province': '서울ㆍ인천ㆍ경기도', 'city': '인천', 'datas': [{'mode': 'A02', 'tmEf': '2023-12-07 00:00', 'wf': '맑음', 'tmn': '1', 'tmx': '9'}, {'mode': 'A02', 'tmEf': '2023-12-07 12:00', 'wf': '맑음', 'tmn': '1', 'tmx': '9'}, {'mode': 'A02', 'tmEf': '2023-12-08 00:00', 'wf': '맑음', 'tmn': '6', 'tmx': '15'}, {'mode': 'A02', 'tmEf': '2023-12-08 12:00', 'wf': '맑음', 'tmn': '6', 'tmx': '15'}, {'mode': 'A02', 'tmEf': '2023-12-09 00:00', 'wf': '맑음', 'tmn': '9', 'tmx': '11'}, {'mode': 'A02', 'tmEf': '2023-12-09 12:00', 'wf': '맑음', 'tmn': '9', 'tmx': '11'}, {'mode': 'A02', 'tmEf': '2023-12-10 00:00', 'wf': '구름많음', 'tmn': '-1', 'tmx': '6'}, {'mode': 'A02', 'tmEf': '2023-12-10 12:00', 'wf': '구름많음', 'tmn': '-1', 'tmx': '6'}, {'mode': 'A02', 'tmEf': '2023-12-11 00:00', 'wf': '흐림', 'tmn': '0', 'tmx': '6'}, {'mode': 'A02', 'tmEf': '2023-12-11 12:00', 'wf': '흐림', 'tmn': '0', 'tmx': '6'}, {'mode': 'A01', 'tmEf': '2023-12-12 00:00', 'wf': '구름많음', 'tmn': '2', 'tmx': '7'}, {'mode': 'A01', 'tmEf': '2023-12-13 00:00', 'wf': '구름많음', 'tmn': '0', 'tmx': '6'}, {'mode': 'A01', 'tmEf': '2023-12-14 00:00', 'wf': '흐림', 'tmn': '-1', 'tmx': '5'}]}]\n"
     ]
    }
   ],
   "source": [
    "import requests\n",
    "from bs4 import BeautifulSoup\n",
    "\n",
    "url = 'http://www.kma.go.kr/weather/forecast/mid-term-rss3.jsp'\n",
    "\n",
    "res = requests.get(url)\n",
    "if res.ok:\n",
    "    soup = BeautifulSoup(res.text, features=\"xml\")\n",
    "    location_tags = soup.find_all('location', attrs={'wl_ver':3})\n",
    "    print(len(location_tags))\n",
    "    location_list = list()\n",
    "    \n",
    "    for location_tag in location_tags:    \n",
    "        location_dict = {} #dict()\n",
    "\n",
    "        # \"province\":\"서울ㆍ인천ㆍ경기도\"\n",
    "        location_dict['province'] = location_tag.find('province').text\n",
    "        # \"city\":\"서울\"\n",
    "        location_dict['city'] = location_tag.find('city').text\n",
    "\n",
    "        data_tags = location_tag.find_all('data')\n",
    "        data_list = []\n",
    "        for data_tag in data_tags:\n",
    "            data_dict = {}\n",
    "            # {\"mode:\"A02\",\"tmEf\":\"2022-01-31 00:00\",\"wf\":\"맑음\"}\n",
    "            data_dict['mode'] = data_tag.find('mode').text\n",
    "            data_dict['tmEf'] = data_tag.find('tmEf').text\n",
    "            data_dict['wf'] = data_tag.find('wf').text\n",
    "            data_dict['tmn'] = data_tag.find('tmn').text\n",
    "            data_dict['tmx'] = data_tag.find('tmx').text\n",
    "            data_list.append(data_dict)\n",
    "\n",
    "        location_dict['datas'] = data_list\n",
    "        \n",
    "        location_list.append(location_dict)\n",
    "        \n",
    "print(location_list[0:2])"
   ]
  },
  {
   "cell_type": "code",
   "execution_count": 11,
   "id": "735da9a4",
   "metadata": {},
   "outputs": [],
   "source": [
    "import warnings\n",
    "warnings.filterwarnings('ignore')"
   ]
  },
  {
   "cell_type": "markdown",
   "id": "8bf43b03",
   "metadata": {},
   "source": [
    "#### weather.json 파일로 저장하기"
   ]
  },
  {
   "cell_type": "code",
   "execution_count": 7,
   "id": "3e8db404",
   "metadata": {},
   "outputs": [],
   "source": [
    "import json\n",
    "\n",
    "with open('data/weather.json','w', encoding='utf-8') as file:\n",
    "    json.dump(location_list, file)"
   ]
  },
  {
   "cell_type": "markdown",
   "id": "2acbfd4a",
   "metadata": {},
   "source": [
    "#### weather.json 파일을 읽어오기"
   ]
  },
  {
   "cell_type": "code",
   "execution_count": 8,
   "id": "cfdcff38",
   "metadata": {},
   "outputs": [
    {
     "name": "stdout",
     "output_type": "stream",
     "text": [
      "[{'province': '서울ㆍ인천ㆍ경기도', 'city': '서울', 'datas': [{'mode': 'A02', 'tmEf': '2023-12-07 00:00', 'wf': '맑음', 'tmn': '-1', 'tmx': '9'}, {'mode': 'A02', 'tmEf': '2023-12-07 12:00', 'wf': '맑음', 'tmn': '-1', 'tmx': '9'}, {'mode': 'A02', 'tmEf': '2023-12-08 00:00', 'wf': '맑음', 'tmn': '5', 'tmx': '15'}, {'mode': 'A02', 'tmEf': '2023-12-08 12:00', 'wf': '맑음', 'tmn': '5', 'tmx': '15'}, {'mode': 'A02', 'tmEf': '2023-12-09 00:00', 'wf': '맑음', 'tmn': '8', 'tmx': '12'}, {'mode': 'A02', 'tmEf': '2023-12-09 12:00', 'wf': '맑음', 'tmn': '8', 'tmx': '12'}, {'mode': 'A02', 'tmEf': '2023-12-10 00:00', 'wf': '구름많음', 'tmn': '0', 'tmx': '7'}, {'mode': 'A02', 'tmEf': '2023-12-10 12:00', 'wf': '구름많음', 'tmn': '0', 'tmx': '7'}, {'mode': 'A02', 'tmEf': '2023-12-11 00:00', 'wf': '흐림', 'tmn': '1', 'tmx': '7'}, {'mode': 'A02', 'tmEf': '2023-12-11 12:00', 'wf': '흐림', 'tmn': '1', 'tmx': '7'}, {'mode': 'A01', 'tmEf': '2023-12-12 00:00', 'wf': '구름많음', 'tmn': '2', 'tmx': '8'}, {'mode': 'A01', 'tmEf': '2023-12-13 00:00', 'wf': '구름많음', 'tmn': '0', 'tmx': '6'}, {'mode': 'A01', 'tmEf': '2023-12-14 00:00', 'wf': '흐림', 'tmn': '-2', 'tmx': '6'}]}, {'province': '서울ㆍ인천ㆍ경기도', 'city': '인천', 'datas': [{'mode': 'A02', 'tmEf': '2023-12-07 00:00', 'wf': '맑음', 'tmn': '1', 'tmx': '9'}, {'mode': 'A02', 'tmEf': '2023-12-07 12:00', 'wf': '맑음', 'tmn': '1', 'tmx': '9'}, {'mode': 'A02', 'tmEf': '2023-12-08 00:00', 'wf': '맑음', 'tmn': '6', 'tmx': '15'}, {'mode': 'A02', 'tmEf': '2023-12-08 12:00', 'wf': '맑음', 'tmn': '6', 'tmx': '15'}, {'mode': 'A02', 'tmEf': '2023-12-09 00:00', 'wf': '맑음', 'tmn': '9', 'tmx': '11'}, {'mode': 'A02', 'tmEf': '2023-12-09 12:00', 'wf': '맑음', 'tmn': '9', 'tmx': '11'}, {'mode': 'A02', 'tmEf': '2023-12-10 00:00', 'wf': '구름많음', 'tmn': '-1', 'tmx': '6'}, {'mode': 'A02', 'tmEf': '2023-12-10 12:00', 'wf': '구름많음', 'tmn': '-1', 'tmx': '6'}, {'mode': 'A02', 'tmEf': '2023-12-11 00:00', 'wf': '흐림', 'tmn': '0', 'tmx': '6'}, {'mode': 'A02', 'tmEf': '2023-12-11 12:00', 'wf': '흐림', 'tmn': '0', 'tmx': '6'}, {'mode': 'A01', 'tmEf': '2023-12-12 00:00', 'wf': '구름많음', 'tmn': '2', 'tmx': '7'}, {'mode': 'A01', 'tmEf': '2023-12-13 00:00', 'wf': '구름많음', 'tmn': '0', 'tmx': '6'}, {'mode': 'A01', 'tmEf': '2023-12-14 00:00', 'wf': '흐림', 'tmn': '-1', 'tmx': '5'}]}, {'province': '서울ㆍ인천ㆍ경기도', 'city': '수원', 'datas': [{'mode': 'A02', 'tmEf': '2023-12-07 00:00', 'wf': '맑음', 'tmn': '-1', 'tmx': '10'}, {'mode': 'A02', 'tmEf': '2023-12-07 12:00', 'wf': '맑음', 'tmn': '-1', 'tmx': '10'}, {'mode': 'A02', 'tmEf': '2023-12-08 00:00', 'wf': '맑음', 'tmn': '3', 'tmx': '16'}, {'mode': 'A02', 'tmEf': '2023-12-08 12:00', 'wf': '맑음', 'tmn': '3', 'tmx': '16'}, {'mode': 'A02', 'tmEf': '2023-12-09 00:00', 'wf': '맑음', 'tmn': '8', 'tmx': '13'}, {'mode': 'A02', 'tmEf': '2023-12-09 12:00', 'wf': '맑음', 'tmn': '8', 'tmx': '13'}, {'mode': 'A02', 'tmEf': '2023-12-10 00:00', 'wf': '구름많음', 'tmn': '0', 'tmx': '8'}, {'mode': 'A02', 'tmEf': '2023-12-10 12:00', 'wf': '구름많음', 'tmn': '0', 'tmx': '8'}, {'mode': 'A02', 'tmEf': '2023-12-11 00:00', 'wf': '흐림', 'tmn': '1', 'tmx': '9'}, {'mode': 'A02', 'tmEf': '2023-12-11 12:00', 'wf': '흐림', 'tmn': '1', 'tmx': '9'}, {'mode': 'A01', 'tmEf': '2023-12-12 00:00', 'wf': '구름많음', 'tmn': '2', 'tmx': '9'}, {'mode': 'A01', 'tmEf': '2023-12-13 00:00', 'wf': '구름많음', 'tmn': '-1', 'tmx': '7'}, {'mode': 'A01', 'tmEf': '2023-12-14 00:00', 'wf': '흐림', 'tmn': '-2', 'tmx': '6'}]}, {'province': '서울ㆍ인천ㆍ경기도', 'city': '파주', 'datas': [{'mode': 'A02', 'tmEf': '2023-12-07 00:00', 'wf': '맑음', 'tmn': '-4', 'tmx': '8'}, {'mode': 'A02', 'tmEf': '2023-12-07 12:00', 'wf': '맑음', 'tmn': '-4', 'tmx': '8'}, {'mode': 'A02', 'tmEf': '2023-12-08 00:00', 'wf': '맑음', 'tmn': '2', 'tmx': '14'}, {'mode': 'A02', 'tmEf': '2023-12-08 12:00', 'wf': '맑음', 'tmn': '2', 'tmx': '14'}, {'mode': 'A02', 'tmEf': '2023-12-09 00:00', 'wf': '맑음', 'tmn': '6', 'tmx': '10'}, {'mode': 'A02', 'tmEf': '2023-12-09 12:00', 'wf': '맑음', 'tmn': '6', 'tmx': '10'}, {'mode': 'A02', 'tmEf': '2023-12-10 00:00', 'wf': '구름많음', 'tmn': '-3', 'tmx': '6'}, {'mode': 'A02', 'tmEf': '2023-12-10 12:00', 'wf': '구름많음', 'tmn': '-3', 'tmx': '6'}, {'mode': 'A02', 'tmEf': '2023-12-11 00:00', 'wf': '흐림', 'tmn': '-2', 'tmx': '6'}, {'mode': 'A02', 'tmEf': '2023-12-11 12:00', 'wf': '흐림', 'tmn': '-2', 'tmx': '6'}, {'mode': 'A01', 'tmEf': '2023-12-12 00:00', 'wf': '구름많음', 'tmn': '-1', 'tmx': '7'}, {'mode': 'A01', 'tmEf': '2023-12-13 00:00', 'wf': '구름많음', 'tmn': '-3', 'tmx': '4'}, {'mode': 'A01', 'tmEf': '2023-12-14 00:00', 'wf': '흐림', 'tmn': '-4', 'tmx': '4'}]}, {'province': '서울ㆍ인천ㆍ경기도', 'city': '이천', 'datas': [{'mode': 'A02', 'tmEf': '2023-12-07 00:00', 'wf': '맑음', 'tmn': '-1', 'tmx': '8'}, {'mode': 'A02', 'tmEf': '2023-12-07 12:00', 'wf': '맑음', 'tmn': '-1', 'tmx': '8'}, {'mode': 'A02', 'tmEf': '2023-12-08 00:00', 'wf': '맑음', 'tmn': '-1', 'tmx': '14'}, {'mode': 'A02', 'tmEf': '2023-12-08 12:00', 'wf': '맑음', 'tmn': '-1', 'tmx': '14'}, {'mode': 'A02', 'tmEf': '2023-12-09 00:00', 'wf': '맑음', 'tmn': '7', 'tmx': '13'}, {'mode': 'A02', 'tmEf': '2023-12-09 12:00', 'wf': '맑음', 'tmn': '7', 'tmx': '13'}, {'mode': 'A02', 'tmEf': '2023-12-10 00:00', 'wf': '구름많음', 'tmn': '-1', 'tmx': '8'}, {'mode': 'A02', 'tmEf': '2023-12-10 12:00', 'wf': '구름많음', 'tmn': '-1', 'tmx': '8'}, {'mode': 'A02', 'tmEf': '2023-12-11 00:00', 'wf': '흐림', 'tmn': '-1', 'tmx': '7'}, {'mode': 'A02', 'tmEf': '2023-12-11 12:00', 'wf': '흐림', 'tmn': '-1', 'tmx': '7'}, {'mode': 'A01', 'tmEf': '2023-12-12 00:00', 'wf': '구름많음', 'tmn': '1', 'tmx': '8'}, {'mode': 'A01', 'tmEf': '2023-12-13 00:00', 'wf': '구름많음', 'tmn': '-3', 'tmx': '6'}, {'mode': 'A01', 'tmEf': '2023-12-14 00:00', 'wf': '흐림', 'tmn': '-3', 'tmx': '5'}]}, {'province': '서울ㆍ인천ㆍ경기도', 'city': '평택', 'datas': [{'mode': 'A02', 'tmEf': '2023-12-07 00:00', 'wf': '맑음', 'tmn': '1', 'tmx': '10'}, {'mode': 'A02', 'tmEf': '2023-12-07 12:00', 'wf': '맑음', 'tmn': '1', 'tmx': '10'}, {'mode': 'A02', 'tmEf': '2023-12-08 00:00', 'wf': '맑음', 'tmn': '4', 'tmx': '16'}, {'mode': 'A02', 'tmEf': '2023-12-08 12:00', 'wf': '맑음', 'tmn': '4', 'tmx': '16'}, {'mode': 'A02', 'tmEf': '2023-12-09 00:00', 'wf': '맑음', 'tmn': '9', 'tmx': '13'}, {'mode': 'A02', 'tmEf': '2023-12-09 12:00', 'wf': '맑음', 'tmn': '9', 'tmx': '13'}, {'mode': 'A02', 'tmEf': '2023-12-10 00:00', 'wf': '구름많음', 'tmn': '0', 'tmx': '8'}, {'mode': 'A02', 'tmEf': '2023-12-10 12:00', 'wf': '구름많음', 'tmn': '0', 'tmx': '8'}, {'mode': 'A02', 'tmEf': '2023-12-11 00:00', 'wf': '흐림', 'tmn': '2', 'tmx': '8'}, {'mode': 'A02', 'tmEf': '2023-12-11 12:00', 'wf': '흐림', 'tmn': '2', 'tmx': '8'}, {'mode': 'A01', 'tmEf': '2023-12-12 00:00', 'wf': '구름많음', 'tmn': '2', 'tmx': '9'}, {'mode': 'A01', 'tmEf': '2023-12-13 00:00', 'wf': '구름많음', 'tmn': '-1', 'tmx': '7'}, {'mode': 'A01', 'tmEf': '2023-12-14 00:00', 'wf': '흐림', 'tmn': '-3', 'tmx': '5'}]}, {'province': '강원도영서', 'city': '춘천', 'datas': [{'mode': 'A02', 'tmEf': '2023-12-07 00:00', 'wf': '맑음', 'tmn': '-2', 'tmx': '7'}, {'mode': 'A02', 'tmEf': '2023-12-07 12:00', 'wf': '맑음', 'tmn': '-2', 'tmx': '7'}, {'mode': 'A02', 'tmEf': '2023-12-08 00:00', 'wf': '맑음', 'tmn': '0', 'tmx': '12'}, {'mode': 'A02', 'tmEf': '2023-12-08 12:00', 'wf': '맑음', 'tmn': '0', 'tmx': '12'}, {'mode': 'A02', 'tmEf': '2023-12-09 00:00', 'wf': '구름많음', 'tmn': '7', 'tmx': '11'}, {'mode': 'A02', 'tmEf': '2023-12-09 12:00', 'wf': '맑음', 'tmn': '7', 'tmx': '11'}, {'mode': 'A02', 'tmEf': '2023-12-10 00:00', 'wf': '구름많음', 'tmn': '-3', 'tmx': '7'}, {'mode': 'A02', 'tmEf': '2023-12-10 12:00', 'wf': '구름많음', 'tmn': '-3', 'tmx': '7'}, {'mode': 'A02', 'tmEf': '2023-12-11 00:00', 'wf': '흐림', 'tmn': '-2', 'tmx': '6'}, {'mode': 'A02', 'tmEf': '2023-12-11 12:00', 'wf': '흐림', 'tmn': '-2', 'tmx': '6'}, {'mode': 'A01', 'tmEf': '2023-12-12 00:00', 'wf': '흐림', 'tmn': '0', 'tmx': '7'}, {'mode': 'A01', 'tmEf': '2023-12-13 00:00', 'wf': '구름많음', 'tmn': '-3', 'tmx': '5'}, {'mode': 'A01', 'tmEf': '2023-12-14 00:00', 'wf': '흐림', 'tmn': '-3', 'tmx': '4'}]}, {'province': '강원도영서', 'city': '원주', 'datas': [{'mode': 'A02', 'tmEf': '2023-12-07 00:00', 'wf': '맑음', 'tmn': '-1', 'tmx': '7'}, {'mode': 'A02', 'tmEf': '2023-12-07 12:00', 'wf': '맑음', 'tmn': '-1', 'tmx': '7'}, {'mode': 'A02', 'tmEf': '2023-12-08 00:00', 'wf': '맑음', 'tmn': '3', 'tmx': '15'}, {'mode': 'A02', 'tmEf': '2023-12-08 12:00', 'wf': '맑음', 'tmn': '3', 'tmx': '15'}, {'mode': 'A02', 'tmEf': '2023-12-09 00:00', 'wf': '구름많음', 'tmn': '8', 'tmx': '13'}, {'mode': 'A02', 'tmEf': '2023-12-09 12:00', 'wf': '맑음', 'tmn': '8', 'tmx': '13'}, {'mode': 'A02', 'tmEf': '2023-12-10 00:00', 'wf': '구름많음', 'tmn': '-1', 'tmx': '8'}, {'mode': 'A02', 'tmEf': '2023-12-10 12:00', 'wf': '구름많음', 'tmn': '-1', 'tmx': '8'}, {'mode': 'A02', 'tmEf': '2023-12-11 00:00', 'wf': '흐림', 'tmn': '1', 'tmx': '7'}, {'mode': 'A02', 'tmEf': '2023-12-11 12:00', 'wf': '흐림', 'tmn': '1', 'tmx': '7'}, {'mode': 'A01', 'tmEf': '2023-12-12 00:00', 'wf': '흐림', 'tmn': '2', 'tmx': '8'}, {'mode': 'A01', 'tmEf': '2023-12-13 00:00', 'wf': '구름많음', 'tmn': '-1', 'tmx': '6'}, {'mode': 'A01', 'tmEf': '2023-12-14 00:00', 'wf': '흐림', 'tmn': '-2', 'tmx': '6'}]}, {'province': '강원도영동', 'city': '강릉', 'datas': [{'mode': 'A02', 'tmEf': '2023-12-07 00:00', 'wf': '맑음', 'tmn': '4', 'tmx': '10'}, {'mode': 'A02', 'tmEf': '2023-12-07 12:00', 'wf': '맑음', 'tmn': '4', 'tmx': '10'}, {'mode': 'A02', 'tmEf': '2023-12-08 00:00', 'wf': '맑음', 'tmn': '6', 'tmx': '17'}, {'mode': 'A02', 'tmEf': '2023-12-08 12:00', 'wf': '맑음', 'tmn': '6', 'tmx': '17'}, {'mode': 'A02', 'tmEf': '2023-12-09 00:00', 'wf': '맑음', 'tmn': '12', 'tmx': '17'}, {'mode': 'A02', 'tmEf': '2023-12-09 12:00', 'wf': '맑음', 'tmn': '12', 'tmx': '17'}, {'mode': 'A02', 'tmEf': '2023-12-10 00:00', 'wf': '구름많음', 'tmn': '4', 'tmx': '11'}, {'mode': 'A02', 'tmEf': '2023-12-10 12:00', 'wf': '구름많음', 'tmn': '4', 'tmx': '11'}, {'mode': 'A02', 'tmEf': '2023-12-11 00:00', 'wf': '흐림', 'tmn': '4', 'tmx': '9'}, {'mode': 'A02', 'tmEf': '2023-12-11 12:00', 'wf': '흐리고 비', 'tmn': '4', 'tmx': '9'}, {'mode': 'A01', 'tmEf': '2023-12-12 00:00', 'wf': '흐리고 비', 'tmn': '4', 'tmx': '8'}, {'mode': 'A01', 'tmEf': '2023-12-13 00:00', 'wf': '흐림', 'tmn': '2', 'tmx': '8'}, {'mode': 'A01', 'tmEf': '2023-12-14 00:00', 'wf': '흐림', 'tmn': '2', 'tmx': '7'}]}, {'province': '대전ㆍ세종ㆍ충청남도', 'city': '대전', 'datas': [{'mode': 'A02', 'tmEf': '2023-12-07 00:00', 'wf': '맑음', 'tmn': '1', 'tmx': '10'}, {'mode': 'A02', 'tmEf': '2023-12-07 12:00', 'wf': '맑음', 'tmn': '1', 'tmx': '10'}, {'mode': 'A02', 'tmEf': '2023-12-08 00:00', 'wf': '맑음', 'tmn': '3', 'tmx': '18'}, {'mode': 'A02', 'tmEf': '2023-12-08 12:00', 'wf': '맑음', 'tmn': '3', 'tmx': '18'}, {'mode': 'A02', 'tmEf': '2023-12-09 00:00', 'wf': '구름많음', 'tmn': '10', 'tmx': '15'}, {'mode': 'A02', 'tmEf': '2023-12-09 12:00', 'wf': '맑음', 'tmn': '10', 'tmx': '15'}, {'mode': 'A02', 'tmEf': '2023-12-10 00:00', 'wf': '맑음', 'tmn': '0', 'tmx': '10'}, {'mode': 'A02', 'tmEf': '2023-12-10 12:00', 'wf': '구름많음', 'tmn': '0', 'tmx': '10'}, {'mode': 'A02', 'tmEf': '2023-12-11 00:00', 'wf': '흐림', 'tmn': '3', 'tmx': '9'}, {'mode': 'A02', 'tmEf': '2023-12-11 12:00', 'wf': '흐림', 'tmn': '3', 'tmx': '9'}, {'mode': 'A01', 'tmEf': '2023-12-12 00:00', 'wf': '흐림', 'tmn': '3', 'tmx': '10'}, {'mode': 'A01', 'tmEf': '2023-12-13 00:00', 'wf': '맑음', 'tmn': '0', 'tmx': '8'}, {'mode': 'A01', 'tmEf': '2023-12-14 00:00', 'wf': '흐림', 'tmn': '-1', 'tmx': '6'}]}, {'province': '대전ㆍ세종ㆍ충청남도', 'city': '세종', 'datas': [{'mode': 'A02', 'tmEf': '2023-12-07 00:00', 'wf': '맑음', 'tmn': '0', 'tmx': '11'}, {'mode': 'A02', 'tmEf': '2023-12-07 12:00', 'wf': '맑음', 'tmn': '0', 'tmx': '11'}, {'mode': 'A02', 'tmEf': '2023-12-08 00:00', 'wf': '맑음', 'tmn': '2', 'tmx': '17'}, {'mode': 'A02', 'tmEf': '2023-12-08 12:00', 'wf': '맑음', 'tmn': '2', 'tmx': '17'}, {'mode': 'A02', 'tmEf': '2023-12-09 00:00', 'wf': '구름많음', 'tmn': '11', 'tmx': '14'}, {'mode': 'A02', 'tmEf': '2023-12-09 12:00', 'wf': '맑음', 'tmn': '11', 'tmx': '14'}, {'mode': 'A02', 'tmEf': '2023-12-10 00:00', 'wf': '맑음', 'tmn': '-1', 'tmx': '9'}, {'mode': 'A02', 'tmEf': '2023-12-10 12:00', 'wf': '구름많음', 'tmn': '-1', 'tmx': '9'}, {'mode': 'A02', 'tmEf': '2023-12-11 00:00', 'wf': '흐림', 'tmn': '4', 'tmx': '10'}, {'mode': 'A02', 'tmEf': '2023-12-11 12:00', 'wf': '흐림', 'tmn': '4', 'tmx': '10'}, {'mode': 'A01', 'tmEf': '2023-12-12 00:00', 'wf': '흐림', 'tmn': '4', 'tmx': '10'}, {'mode': 'A01', 'tmEf': '2023-12-13 00:00', 'wf': '맑음', 'tmn': '0', 'tmx': '8'}, {'mode': 'A01', 'tmEf': '2023-12-14 00:00', 'wf': '흐림', 'tmn': '-1', 'tmx': '5'}]}, {'province': '대전ㆍ세종ㆍ충청남도', 'city': '홍성', 'datas': [{'mode': 'A02', 'tmEf': '2023-12-07 00:00', 'wf': '맑음', 'tmn': '0', 'tmx': '10'}, {'mode': 'A02', 'tmEf': '2023-12-07 12:00', 'wf': '맑음', 'tmn': '0', 'tmx': '10'}, {'mode': 'A02', 'tmEf': '2023-12-08 00:00', 'wf': '맑음', 'tmn': '3', 'tmx': '17'}, {'mode': 'A02', 'tmEf': '2023-12-08 12:00', 'wf': '맑음', 'tmn': '3', 'tmx': '17'}, {'mode': 'A02', 'tmEf': '2023-12-09 00:00', 'wf': '구름많음', 'tmn': '10', 'tmx': '14'}, {'mode': 'A02', 'tmEf': '2023-12-09 12:00', 'wf': '맑음', 'tmn': '10', 'tmx': '14'}, {'mode': 'A02', 'tmEf': '2023-12-10 00:00', 'wf': '맑음', 'tmn': '0', 'tmx': '7'}, {'mode': 'A02', 'tmEf': '2023-12-10 12:00', 'wf': '구름많음', 'tmn': '0', 'tmx': '7'}, {'mode': 'A02', 'tmEf': '2023-12-11 00:00', 'wf': '흐림', 'tmn': '3', 'tmx': '8'}, {'mode': 'A02', 'tmEf': '2023-12-11 12:00', 'wf': '흐림', 'tmn': '3', 'tmx': '8'}, {'mode': 'A01', 'tmEf': '2023-12-12 00:00', 'wf': '흐림', 'tmn': '2', 'tmx': '9'}, {'mode': 'A01', 'tmEf': '2023-12-13 00:00', 'wf': '맑음', 'tmn': '-1', 'tmx': '7'}, {'mode': 'A01', 'tmEf': '2023-12-14 00:00', 'wf': '흐림', 'tmn': '-2', 'tmx': '4'}]}, {'province': '충청북도', 'city': '청주', 'datas': [{'mode': 'A02', 'tmEf': '2023-12-07 00:00', 'wf': '맑음', 'tmn': '2', 'tmx': '11'}, {'mode': 'A02', 'tmEf': '2023-12-07 12:00', 'wf': '맑음', 'tmn': '2', 'tmx': '11'}, {'mode': 'A02', 'tmEf': '2023-12-08 00:00', 'wf': '맑음', 'tmn': '3', 'tmx': '17'}, {'mode': 'A02', 'tmEf': '2023-12-08 12:00', 'wf': '맑음', 'tmn': '3', 'tmx': '17'}, {'mode': 'A02', 'tmEf': '2023-12-09 00:00', 'wf': '구름많음', 'tmn': '9', 'tmx': '15'}, {'mode': 'A02', 'tmEf': '2023-12-09 12:00', 'wf': '맑음', 'tmn': '9', 'tmx': '15'}, {'mode': 'A02', 'tmEf': '2023-12-10 00:00', 'wf': '맑음', 'tmn': '0', 'tmx': '9'}, {'mode': 'A02', 'tmEf': '2023-12-10 12:00', 'wf': '구름많음', 'tmn': '0', 'tmx': '9'}, {'mode': 'A02', 'tmEf': '2023-12-11 00:00', 'wf': '흐림', 'tmn': '2', 'tmx': '8'}, {'mode': 'A02', 'tmEf': '2023-12-11 12:00', 'wf': '흐림', 'tmn': '2', 'tmx': '8'}, {'mode': 'A01', 'tmEf': '2023-12-12 00:00', 'wf': '흐림', 'tmn': '4', 'tmx': '9'}, {'mode': 'A01', 'tmEf': '2023-12-13 00:00', 'wf': '구름많음', 'tmn': '0', 'tmx': '7'}, {'mode': 'A01', 'tmEf': '2023-12-14 00:00', 'wf': '흐림', 'tmn': '-1', 'tmx': '6'}]}, {'province': '충청북도', 'city': '충주', 'datas': [{'mode': 'A02', 'tmEf': '2023-12-07 00:00', 'wf': '맑음', 'tmn': '-1', 'tmx': '8'}, {'mode': 'A02', 'tmEf': '2023-12-07 12:00', 'wf': '맑음', 'tmn': '-1', 'tmx': '8'}, {'mode': 'A02', 'tmEf': '2023-12-08 00:00', 'wf': '맑음', 'tmn': '0', 'tmx': '16'}, {'mode': 'A02', 'tmEf': '2023-12-08 12:00', 'wf': '맑음', 'tmn': '0', 'tmx': '16'}, {'mode': 'A02', 'tmEf': '2023-12-09 00:00', 'wf': '구름많음', 'tmn': '7', 'tmx': '14'}, {'mode': 'A02', 'tmEf': '2023-12-09 12:00', 'wf': '맑음', 'tmn': '7', 'tmx': '14'}, {'mode': 'A02', 'tmEf': '2023-12-10 00:00', 'wf': '맑음', 'tmn': '-1', 'tmx': '9'}, {'mode': 'A02', 'tmEf': '2023-12-10 12:00', 'wf': '구름많음', 'tmn': '-1', 'tmx': '9'}, {'mode': 'A02', 'tmEf': '2023-12-11 00:00', 'wf': '흐림', 'tmn': '1', 'tmx': '7'}, {'mode': 'A02', 'tmEf': '2023-12-11 12:00', 'wf': '흐림', 'tmn': '1', 'tmx': '7'}, {'mode': 'A01', 'tmEf': '2023-12-12 00:00', 'wf': '흐림', 'tmn': '3', 'tmx': '8'}, {'mode': 'A01', 'tmEf': '2023-12-13 00:00', 'wf': '구름많음', 'tmn': '-1', 'tmx': '7'}, {'mode': 'A01', 'tmEf': '2023-12-14 00:00', 'wf': '흐림', 'tmn': '-2', 'tmx': '6'}]}, {'province': '충청북도', 'city': '영동', 'datas': [{'mode': 'A02', 'tmEf': '2023-12-07 00:00', 'wf': '맑음', 'tmn': '1', 'tmx': '10'}, {'mode': 'A02', 'tmEf': '2023-12-07 12:00', 'wf': '맑음', 'tmn': '1', 'tmx': '10'}, {'mode': 'A02', 'tmEf': '2023-12-08 00:00', 'wf': '맑음', 'tmn': '-1', 'tmx': '17'}, {'mode': 'A02', 'tmEf': '2023-12-08 12:00', 'wf': '맑음', 'tmn': '-1', 'tmx': '17'}, {'mode': 'A02', 'tmEf': '2023-12-09 00:00', 'wf': '구름많음', 'tmn': '7', 'tmx': '15'}, {'mode': 'A02', 'tmEf': '2023-12-09 12:00', 'wf': '맑음', 'tmn': '7', 'tmx': '15'}, {'mode': 'A02', 'tmEf': '2023-12-10 00:00', 'wf': '맑음', 'tmn': '-2', 'tmx': '10'}, {'mode': 'A02', 'tmEf': '2023-12-10 12:00', 'wf': '구름많음', 'tmn': '-2', 'tmx': '10'}, {'mode': 'A02', 'tmEf': '2023-12-11 00:00', 'wf': '흐림', 'tmn': '2', 'tmx': '9'}, {'mode': 'A02', 'tmEf': '2023-12-11 12:00', 'wf': '흐림', 'tmn': '2', 'tmx': '9'}, {'mode': 'A01', 'tmEf': '2023-12-12 00:00', 'wf': '흐림', 'tmn': '3', 'tmx': '10'}, {'mode': 'A01', 'tmEf': '2023-12-13 00:00', 'wf': '구름많음', 'tmn': '-2', 'tmx': '8'}, {'mode': 'A01', 'tmEf': '2023-12-14 00:00', 'wf': '흐림', 'tmn': '-3', 'tmx': '6'}]}, {'province': '광주ㆍ전라남도', 'city': '광주', 'datas': [{'mode': 'A02', 'tmEf': '2023-12-07 00:00', 'wf': '맑음', 'tmn': '4', 'tmx': '12'}, {'mode': 'A02', 'tmEf': '2023-12-07 12:00', 'wf': '맑음', 'tmn': '4', 'tmx': '12'}, {'mode': 'A02', 'tmEf': '2023-12-08 00:00', 'wf': '맑음', 'tmn': '5', 'tmx': '18'}, {'mode': 'A02', 'tmEf': '2023-12-08 12:00', 'wf': '맑음', 'tmn': '5', 'tmx': '18'}, {'mode': 'A02', 'tmEf': '2023-12-09 00:00', 'wf': '구름많음', 'tmn': '10', 'tmx': '17'}, {'mode': 'A02', 'tmEf': '2023-12-09 12:00', 'wf': '맑음', 'tmn': '10', 'tmx': '17'}, {'mode': 'A02', 'tmEf': '2023-12-10 00:00', 'wf': '맑음', 'tmn': '4', 'tmx': '13'}, {'mode': 'A02', 'tmEf': '2023-12-10 12:00', 'wf': '구름많음', 'tmn': '4', 'tmx': '13'}, {'mode': 'A02', 'tmEf': '2023-12-11 00:00', 'wf': '흐리고 비', 'tmn': '5', 'tmx': '12'}, {'mode': 'A02', 'tmEf': '2023-12-11 12:00', 'wf': '흐리고 비', 'tmn': '5', 'tmx': '12'}, {'mode': 'A01', 'tmEf': '2023-12-12 00:00', 'wf': '흐림', 'tmn': '5', 'tmx': '11'}, {'mode': 'A01', 'tmEf': '2023-12-13 00:00', 'wf': '맑음', 'tmn': '3', 'tmx': '10'}, {'mode': 'A01', 'tmEf': '2023-12-14 00:00', 'wf': '흐림', 'tmn': '1', 'tmx': '9'}]}, {'province': '광주ㆍ전라남도', 'city': '목포', 'datas': [{'mode': 'A02', 'tmEf': '2023-12-07 00:00', 'wf': '맑음', 'tmn': '6', 'tmx': '12'}, {'mode': 'A02', 'tmEf': '2023-12-07 12:00', 'wf': '맑음', 'tmn': '6', 'tmx': '12'}, {'mode': 'A02', 'tmEf': '2023-12-08 00:00', 'wf': '맑음', 'tmn': '8', 'tmx': '17'}, {'mode': 'A02', 'tmEf': '2023-12-08 12:00', 'wf': '맑음', 'tmn': '8', 'tmx': '17'}, {'mode': 'A02', 'tmEf': '2023-12-09 00:00', 'wf': '구름많음', 'tmn': '11', 'tmx': '15'}, {'mode': 'A02', 'tmEf': '2023-12-09 12:00', 'wf': '맑음', 'tmn': '11', 'tmx': '15'}, {'mode': 'A02', 'tmEf': '2023-12-10 00:00', 'wf': '맑음', 'tmn': '5', 'tmx': '11'}, {'mode': 'A02', 'tmEf': '2023-12-10 12:00', 'wf': '구름많음', 'tmn': '5', 'tmx': '11'}, {'mode': 'A02', 'tmEf': '2023-12-11 00:00', 'wf': '흐리고 비', 'tmn': '6', 'tmx': '10'}, {'mode': 'A02', 'tmEf': '2023-12-11 12:00', 'wf': '흐리고 비', 'tmn': '6', 'tmx': '10'}, {'mode': 'A01', 'tmEf': '2023-12-12 00:00', 'wf': '흐림', 'tmn': '7', 'tmx': '10'}, {'mode': 'A01', 'tmEf': '2023-12-13 00:00', 'wf': '맑음', 'tmn': '4', 'tmx': '9'}, {'mode': 'A01', 'tmEf': '2023-12-14 00:00', 'wf': '흐림', 'tmn': '3', 'tmx': '8'}]}, {'province': '광주ㆍ전라남도', 'city': '여수', 'datas': [{'mode': 'A02', 'tmEf': '2023-12-07 00:00', 'wf': '맑음', 'tmn': '5', 'tmx': '12'}, {'mode': 'A02', 'tmEf': '2023-12-07 12:00', 'wf': '맑음', 'tmn': '5', 'tmx': '12'}, {'mode': 'A02', 'tmEf': '2023-12-08 00:00', 'wf': '맑음', 'tmn': '7', 'tmx': '16'}, {'mode': 'A02', 'tmEf': '2023-12-08 12:00', 'wf': '맑음', 'tmn': '7', 'tmx': '16'}, {'mode': 'A02', 'tmEf': '2023-12-09 00:00', 'wf': '구름많음', 'tmn': '11', 'tmx': '16'}, {'mode': 'A02', 'tmEf': '2023-12-09 12:00', 'wf': '맑음', 'tmn': '11', 'tmx': '16'}, {'mode': 'A02', 'tmEf': '2023-12-10 00:00', 'wf': '맑음', 'tmn': '8', 'tmx': '13'}, {'mode': 'A02', 'tmEf': '2023-12-10 12:00', 'wf': '구름많음', 'tmn': '8', 'tmx': '13'}, {'mode': 'A02', 'tmEf': '2023-12-11 00:00', 'wf': '흐리고 비', 'tmn': '8', 'tmx': '12'}, {'mode': 'A02', 'tmEf': '2023-12-11 12:00', 'wf': '흐리고 비', 'tmn': '8', 'tmx': '12'}, {'mode': 'A01', 'tmEf': '2023-12-12 00:00', 'wf': '흐림', 'tmn': '7', 'tmx': '12'}, {'mode': 'A01', 'tmEf': '2023-12-13 00:00', 'wf': '맑음', 'tmn': '6', 'tmx': '10'}, {'mode': 'A01', 'tmEf': '2023-12-14 00:00', 'wf': '흐림', 'tmn': '4', 'tmx': '9'}]}, {'province': '광주ㆍ전라남도', 'city': '순천', 'datas': [{'mode': 'A02', 'tmEf': '2023-12-07 00:00', 'wf': '맑음', 'tmn': '4', 'tmx': '13'}, {'mode': 'A02', 'tmEf': '2023-12-07 12:00', 'wf': '맑음', 'tmn': '4', 'tmx': '13'}, {'mode': 'A02', 'tmEf': '2023-12-08 00:00', 'wf': '맑음', 'tmn': '2', 'tmx': '18'}, {'mode': 'A02', 'tmEf': '2023-12-08 12:00', 'wf': '맑음', 'tmn': '2', 'tmx': '18'}, {'mode': 'A02', 'tmEf': '2023-12-09 00:00', 'wf': '구름많음', 'tmn': '8', 'tmx': '18'}, {'mode': 'A02', 'tmEf': '2023-12-09 12:00', 'wf': '맑음', 'tmn': '8', 'tmx': '18'}, {'mode': 'A02', 'tmEf': '2023-12-10 00:00', 'wf': '맑음', 'tmn': '4', 'tmx': '16'}, {'mode': 'A02', 'tmEf': '2023-12-10 12:00', 'wf': '구름많음', 'tmn': '4', 'tmx': '16'}, {'mode': 'A02', 'tmEf': '2023-12-11 00:00', 'wf': '흐리고 비', 'tmn': '6', 'tmx': '14'}, {'mode': 'A02', 'tmEf': '2023-12-11 12:00', 'wf': '흐리고 비', 'tmn': '6', 'tmx': '14'}, {'mode': 'A01', 'tmEf': '2023-12-12 00:00', 'wf': '흐림', 'tmn': '6', 'tmx': '12'}, {'mode': 'A01', 'tmEf': '2023-12-13 00:00', 'wf': '맑음', 'tmn': '3', 'tmx': '12'}, {'mode': 'A01', 'tmEf': '2023-12-14 00:00', 'wf': '흐림', 'tmn': '2', 'tmx': '9'}]}, {'province': '광주ㆍ전라남도', 'city': '광양', 'datas': [{'mode': 'A02', 'tmEf': '2023-12-07 00:00', 'wf': '맑음', 'tmn': '4', 'tmx': '13'}, {'mode': 'A02', 'tmEf': '2023-12-07 12:00', 'wf': '맑음', 'tmn': '4', 'tmx': '13'}, {'mode': 'A02', 'tmEf': '2023-12-08 00:00', 'wf': '맑음', 'tmn': '4', 'tmx': '19'}, {'mode': 'A02', 'tmEf': '2023-12-08 12:00', 'wf': '맑음', 'tmn': '4', 'tmx': '19'}, {'mode': 'A02', 'tmEf': '2023-12-09 00:00', 'wf': '구름많음', 'tmn': '10', 'tmx': '20'}, {'mode': 'A02', 'tmEf': '2023-12-09 12:00', 'wf': '맑음', 'tmn': '10', 'tmx': '20'}, {'mode': 'A02', 'tmEf': '2023-12-10 00:00', 'wf': '맑음', 'tmn': '7', 'tmx': '16'}, {'mode': 'A02', 'tmEf': '2023-12-10 12:00', 'wf': '구름많음', 'tmn': '7', 'tmx': '16'}, {'mode': 'A02', 'tmEf': '2023-12-11 00:00', 'wf': '흐리고 비', 'tmn': '8', 'tmx': '13'}, {'mode': 'A02', 'tmEf': '2023-12-11 12:00', 'wf': '흐리고 비', 'tmn': '8', 'tmx': '13'}, {'mode': 'A01', 'tmEf': '2023-12-12 00:00', 'wf': '흐림', 'tmn': '7', 'tmx': '13'}, {'mode': 'A01', 'tmEf': '2023-12-13 00:00', 'wf': '맑음', 'tmn': '4', 'tmx': '12'}, {'mode': 'A01', 'tmEf': '2023-12-14 00:00', 'wf': '흐림', 'tmn': '4', 'tmx': '11'}]}, {'province': '광주ㆍ전라남도', 'city': '나주', 'datas': [{'mode': 'A02', 'tmEf': '2023-12-07 00:00', 'wf': '맑음', 'tmn': '2', 'tmx': '12'}, {'mode': 'A02', 'tmEf': '2023-12-07 12:00', 'wf': '맑음', 'tmn': '2', 'tmx': '12'}, {'mode': 'A02', 'tmEf': '2023-12-08 00:00', 'wf': '맑음', 'tmn': '4', 'tmx': '18'}, {'mode': 'A02', 'tmEf': '2023-12-08 12:00', 'wf': '맑음', 'tmn': '4', 'tmx': '18'}, {'mode': 'A02', 'tmEf': '2023-12-09 00:00', 'wf': '구름많음', 'tmn': '8', 'tmx': '16'}, {'mode': 'A02', 'tmEf': '2023-12-09 12:00', 'wf': '맑음', 'tmn': '8', 'tmx': '16'}, {'mode': 'A02', 'tmEf': '2023-12-10 00:00', 'wf': '맑음', 'tmn': '3', 'tmx': '12'}, {'mode': 'A02', 'tmEf': '2023-12-10 12:00', 'wf': '구름많음', 'tmn': '3', 'tmx': '12'}, {'mode': 'A02', 'tmEf': '2023-12-11 00:00', 'wf': '흐리고 비', 'tmn': '5', 'tmx': '12'}, {'mode': 'A02', 'tmEf': '2023-12-11 12:00', 'wf': '흐리고 비', 'tmn': '5', 'tmx': '12'}, {'mode': 'A01', 'tmEf': '2023-12-12 00:00', 'wf': '흐림', 'tmn': '4', 'tmx': '11'}, {'mode': 'A01', 'tmEf': '2023-12-13 00:00', 'wf': '맑음', 'tmn': '1', 'tmx': '10'}, {'mode': 'A01', 'tmEf': '2023-12-14 00:00', 'wf': '흐림', 'tmn': '-1', 'tmx': '6'}]}, {'province': '전라북도', 'city': '전주', 'datas': [{'mode': 'A02', 'tmEf': '2023-12-07 00:00', 'wf': '맑음', 'tmn': '3', 'tmx': '11'}, {'mode': 'A02', 'tmEf': '2023-12-07 12:00', 'wf': '맑음', 'tmn': '3', 'tmx': '11'}, {'mode': 'A02', 'tmEf': '2023-12-08 00:00', 'wf': '맑음', 'tmn': '6', 'tmx': '18'}, {'mode': 'A02', 'tmEf': '2023-12-08 12:00', 'wf': '맑음', 'tmn': '6', 'tmx': '18'}, {'mode': 'A02', 'tmEf': '2023-12-09 00:00', 'wf': '구름많음', 'tmn': '10', 'tmx': '16'}, {'mode': 'A02', 'tmEf': '2023-12-09 12:00', 'wf': '맑음', 'tmn': '10', 'tmx': '16'}, {'mode': 'A02', 'tmEf': '2023-12-10 00:00', 'wf': '맑음', 'tmn': '2', 'tmx': '11'}, {'mode': 'A02', 'tmEf': '2023-12-10 12:00', 'wf': '구름많음', 'tmn': '2', 'tmx': '11'}, {'mode': 'A02', 'tmEf': '2023-12-11 00:00', 'wf': '흐림', 'tmn': '5', 'tmx': '10'}, {'mode': 'A02', 'tmEf': '2023-12-11 12:00', 'wf': '흐리고 비', 'tmn': '5', 'tmx': '10'}, {'mode': 'A01', 'tmEf': '2023-12-12 00:00', 'wf': '흐림', 'tmn': '4', 'tmx': '10'}, {'mode': 'A01', 'tmEf': '2023-12-13 00:00', 'wf': '맑음', 'tmn': '2', 'tmx': '9'}, {'mode': 'A01', 'tmEf': '2023-12-14 00:00', 'wf': '흐림', 'tmn': '0', 'tmx': '7'}]}, {'province': '전라북도', 'city': '군산', 'datas': [{'mode': 'A02', 'tmEf': '2023-12-07 00:00', 'wf': '맑음', 'tmn': '3', 'tmx': '11'}, {'mode': 'A02', 'tmEf': '2023-12-07 12:00', 'wf': '맑음', 'tmn': '3', 'tmx': '11'}, {'mode': 'A02', 'tmEf': '2023-12-08 00:00', 'wf': '맑음', 'tmn': '4', 'tmx': '17'}, {'mode': 'A02', 'tmEf': '2023-12-08 12:00', 'wf': '맑음', 'tmn': '4', 'tmx': '17'}, {'mode': 'A02', 'tmEf': '2023-12-09 00:00', 'wf': '구름많음', 'tmn': '10', 'tmx': '14'}, {'mode': 'A02', 'tmEf': '2023-12-09 12:00', 'wf': '맑음', 'tmn': '10', 'tmx': '14'}, {'mode': 'A02', 'tmEf': '2023-12-10 00:00', 'wf': '맑음', 'tmn': '1', 'tmx': '10'}, {'mode': 'A02', 'tmEf': '2023-12-10 12:00', 'wf': '구름많음', 'tmn': '1', 'tmx': '10'}, {'mode': 'A02', 'tmEf': '2023-12-11 00:00', 'wf': '흐림', 'tmn': '3', 'tmx': '9'}, {'mode': 'A02', 'tmEf': '2023-12-11 12:00', 'wf': '흐리고 비', 'tmn': '3', 'tmx': '9'}, {'mode': 'A01', 'tmEf': '2023-12-12 00:00', 'wf': '흐림', 'tmn': '4', 'tmx': '9'}, {'mode': 'A01', 'tmEf': '2023-12-13 00:00', 'wf': '맑음', 'tmn': '1', 'tmx': '8'}, {'mode': 'A01', 'tmEf': '2023-12-14 00:00', 'wf': '흐림', 'tmn': '-1', 'tmx': '7'}]}, {'province': '전라북도', 'city': '정읍', 'datas': [{'mode': 'A02', 'tmEf': '2023-12-07 00:00', 'wf': '맑음', 'tmn': '3', 'tmx': '11'}, {'mode': 'A02', 'tmEf': '2023-12-07 12:00', 'wf': '맑음', 'tmn': '3', 'tmx': '11'}, {'mode': 'A02', 'tmEf': '2023-12-08 00:00', 'wf': '맑음', 'tmn': '5', 'tmx': '18'}, {'mode': 'A02', 'tmEf': '2023-12-08 12:00', 'wf': '맑음', 'tmn': '5', 'tmx': '18'}, {'mode': 'A02', 'tmEf': '2023-12-09 00:00', 'wf': '구름많음', 'tmn': '10', 'tmx': '16'}, {'mode': 'A02', 'tmEf': '2023-12-09 12:00', 'wf': '맑음', 'tmn': '10', 'tmx': '16'}, {'mode': 'A02', 'tmEf': '2023-12-10 00:00', 'wf': '맑음', 'tmn': '2', 'tmx': '10'}, {'mode': 'A02', 'tmEf': '2023-12-10 12:00', 'wf': '구름많음', 'tmn': '2', 'tmx': '10'}, {'mode': 'A02', 'tmEf': '2023-12-11 00:00', 'wf': '흐림', 'tmn': '3', 'tmx': '10'}, {'mode': 'A02', 'tmEf': '2023-12-11 12:00', 'wf': '흐리고 비', 'tmn': '3', 'tmx': '10'}, {'mode': 'A01', 'tmEf': '2023-12-12 00:00', 'wf': '흐림', 'tmn': '4', 'tmx': '10'}, {'mode': 'A01', 'tmEf': '2023-12-13 00:00', 'wf': '맑음', 'tmn': '1', 'tmx': '8'}, {'mode': 'A01', 'tmEf': '2023-12-14 00:00', 'wf': '흐림', 'tmn': '-1', 'tmx': '7'}]}, {'province': '전라북도', 'city': '남원', 'datas': [{'mode': 'A02', 'tmEf': '2023-12-07 00:00', 'wf': '맑음', 'tmn': '2', 'tmx': '10'}, {'mode': 'A02', 'tmEf': '2023-12-07 12:00', 'wf': '맑음', 'tmn': '2', 'tmx': '10'}, {'mode': 'A02', 'tmEf': '2023-12-08 00:00', 'wf': '맑음', 'tmn': '3', 'tmx': '17'}, {'mode': 'A02', 'tmEf': '2023-12-08 12:00', 'wf': '맑음', 'tmn': '3', 'tmx': '17'}, {'mode': 'A02', 'tmEf': '2023-12-09 00:00', 'wf': '구름많음', 'tmn': '9', 'tmx': '16'}, {'mode': 'A02', 'tmEf': '2023-12-09 12:00', 'wf': '맑음', 'tmn': '9', 'tmx': '16'}, {'mode': 'A02', 'tmEf': '2023-12-10 00:00', 'wf': '맑음', 'tmn': '4', 'tmx': '13'}, {'mode': 'A02', 'tmEf': '2023-12-10 12:00', 'wf': '구름많음', 'tmn': '4', 'tmx': '13'}, {'mode': 'A02', 'tmEf': '2023-12-11 00:00', 'wf': '흐림', 'tmn': '4', 'tmx': '11'}, {'mode': 'A02', 'tmEf': '2023-12-11 12:00', 'wf': '흐리고 비', 'tmn': '4', 'tmx': '11'}, {'mode': 'A01', 'tmEf': '2023-12-12 00:00', 'wf': '흐림', 'tmn': '4', 'tmx': '11'}, {'mode': 'A01', 'tmEf': '2023-12-13 00:00', 'wf': '맑음', 'tmn': '1', 'tmx': '10'}, {'mode': 'A01', 'tmEf': '2023-12-14 00:00', 'wf': '흐림', 'tmn': '0', 'tmx': '7'}]}, {'province': '전라북도', 'city': '고창', 'datas': [{'mode': 'A02', 'tmEf': '2023-12-07 00:00', 'wf': '맑음', 'tmn': '4', 'tmx': '11'}, {'mode': 'A02', 'tmEf': '2023-12-07 12:00', 'wf': '맑음', 'tmn': '4', 'tmx': '11'}, {'mode': 'A02', 'tmEf': '2023-12-08 00:00', 'wf': '맑음', 'tmn': '6', 'tmx': '18'}, {'mode': 'A02', 'tmEf': '2023-12-08 12:00', 'wf': '맑음', 'tmn': '6', 'tmx': '18'}, {'mode': 'A02', 'tmEf': '2023-12-09 00:00', 'wf': '구름많음', 'tmn': '11', 'tmx': '16'}, {'mode': 'A02', 'tmEf': '2023-12-09 12:00', 'wf': '맑음', 'tmn': '11', 'tmx': '16'}, {'mode': 'A02', 'tmEf': '2023-12-10 00:00', 'wf': '맑음', 'tmn': '2', 'tmx': '10'}, {'mode': 'A02', 'tmEf': '2023-12-10 12:00', 'wf': '구름많음', 'tmn': '2', 'tmx': '10'}, {'mode': 'A02', 'tmEf': '2023-12-11 00:00', 'wf': '흐림', 'tmn': '5', 'tmx': '10'}, {'mode': 'A02', 'tmEf': '2023-12-11 12:00', 'wf': '흐리고 비', 'tmn': '5', 'tmx': '10'}, {'mode': 'A01', 'tmEf': '2023-12-12 00:00', 'wf': '흐림', 'tmn': '5', 'tmx': '10'}, {'mode': 'A01', 'tmEf': '2023-12-13 00:00', 'wf': '맑음', 'tmn': '2', 'tmx': '9'}, {'mode': 'A01', 'tmEf': '2023-12-14 00:00', 'wf': '흐림', 'tmn': '2', 'tmx': '7'}]}, {'province': '전라북도', 'city': '무주', 'datas': [{'mode': 'A02', 'tmEf': '2023-12-07 00:00', 'wf': '맑음', 'tmn': '0', 'tmx': '9'}, {'mode': 'A02', 'tmEf': '2023-12-07 12:00', 'wf': '맑음', 'tmn': '0', 'tmx': '9'}, {'mode': 'A02', 'tmEf': '2023-12-08 00:00', 'wf': '맑음', 'tmn': '2', 'tmx': '16'}, {'mode': 'A02', 'tmEf': '2023-12-08 12:00', 'wf': '맑음', 'tmn': '2', 'tmx': '16'}, {'mode': 'A02', 'tmEf': '2023-12-09 00:00', 'wf': '구름많음', 'tmn': '8', 'tmx': '15'}, {'mode': 'A02', 'tmEf': '2023-12-09 12:00', 'wf': '맑음', 'tmn': '8', 'tmx': '15'}, {'mode': 'A02', 'tmEf': '2023-12-10 00:00', 'wf': '맑음', 'tmn': '-1', 'tmx': '11'}, {'mode': 'A02', 'tmEf': '2023-12-10 12:00', 'wf': '구름많음', 'tmn': '-1', 'tmx': '11'}, {'mode': 'A02', 'tmEf': '2023-12-11 00:00', 'wf': '흐림', 'tmn': '2', 'tmx': '9'}, {'mode': 'A02', 'tmEf': '2023-12-11 12:00', 'wf': '흐리고 비', 'tmn': '2', 'tmx': '9'}, {'mode': 'A01', 'tmEf': '2023-12-12 00:00', 'wf': '흐림', 'tmn': '3', 'tmx': '9'}, {'mode': 'A01', 'tmEf': '2023-12-13 00:00', 'wf': '맑음', 'tmn': '-2', 'tmx': '8'}, {'mode': 'A01', 'tmEf': '2023-12-14 00:00', 'wf': '흐림', 'tmn': '-2', 'tmx': '6'}]}, {'province': '부산ㆍ울산ㆍ경상남도', 'city': '부산', 'datas': [{'mode': 'A02', 'tmEf': '2023-12-07 00:00', 'wf': '맑음', 'tmn': '6', 'tmx': '13'}, {'mode': 'A02', 'tmEf': '2023-12-07 12:00', 'wf': '맑음', 'tmn': '6', 'tmx': '13'}, {'mode': 'A02', 'tmEf': '2023-12-08 00:00', 'wf': '맑음', 'tmn': '8', 'tmx': '19'}, {'mode': 'A02', 'tmEf': '2023-12-08 12:00', 'wf': '맑음', 'tmn': '8', 'tmx': '19'}, {'mode': 'A02', 'tmEf': '2023-12-09 00:00', 'wf': '맑음', 'tmn': '14', 'tmx': '19'}, {'mode': 'A02', 'tmEf': '2023-12-09 12:00', 'wf': '맑음', 'tmn': '14', 'tmx': '19'}, {'mode': 'A02', 'tmEf': '2023-12-10 00:00', 'wf': '맑음', 'tmn': '9', 'tmx': '15'}, {'mode': 'A02', 'tmEf': '2023-12-10 12:00', 'wf': '구름많음', 'tmn': '9', 'tmx': '15'}, {'mode': 'A02', 'tmEf': '2023-12-11 00:00', 'wf': '흐림', 'tmn': '10', 'tmx': '14'}, {'mode': 'A02', 'tmEf': '2023-12-11 12:00', 'wf': '흐리고 비', 'tmn': '10', 'tmx': '14'}, {'mode': 'A01', 'tmEf': '2023-12-12 00:00', 'wf': '흐리고 비', 'tmn': '9', 'tmx': '13'}, {'mode': 'A01', 'tmEf': '2023-12-13 00:00', 'wf': '맑음', 'tmn': '6', 'tmx': '13'}, {'mode': 'A01', 'tmEf': '2023-12-14 00:00', 'wf': '흐림', 'tmn': '5', 'tmx': '11'}]}, {'province': '부산ㆍ울산ㆍ경상남도', 'city': '울산', 'datas': [{'mode': 'A02', 'tmEf': '2023-12-07 00:00', 'wf': '맑음', 'tmn': '5', 'tmx': '12'}, {'mode': 'A02', 'tmEf': '2023-12-07 12:00', 'wf': '맑음', 'tmn': '5', 'tmx': '12'}, {'mode': 'A02', 'tmEf': '2023-12-08 00:00', 'wf': '맑음', 'tmn': '3', 'tmx': '19'}, {'mode': 'A02', 'tmEf': '2023-12-08 12:00', 'wf': '맑음', 'tmn': '3', 'tmx': '19'}, {'mode': 'A02', 'tmEf': '2023-12-09 00:00', 'wf': '맑음', 'tmn': '11', 'tmx': '19'}, {'mode': 'A02', 'tmEf': '2023-12-09 12:00', 'wf': '맑음', 'tmn': '11', 'tmx': '19'}, {'mode': 'A02', 'tmEf': '2023-12-10 00:00', 'wf': '맑음', 'tmn': '6', 'tmx': '14'}, {'mode': 'A02', 'tmEf': '2023-12-10 12:00', 'wf': '구름많음', 'tmn': '6', 'tmx': '14'}, {'mode': 'A02', 'tmEf': '2023-12-11 00:00', 'wf': '흐림', 'tmn': '6', 'tmx': '12'}, {'mode': 'A02', 'tmEf': '2023-12-11 12:00', 'wf': '흐리고 비', 'tmn': '6', 'tmx': '12'}, {'mode': 'A01', 'tmEf': '2023-12-12 00:00', 'wf': '흐리고 비', 'tmn': '7', 'tmx': '11'}, {'mode': 'A01', 'tmEf': '2023-12-13 00:00', 'wf': '맑음', 'tmn': '4', 'tmx': '12'}, {'mode': 'A01', 'tmEf': '2023-12-14 00:00', 'wf': '흐림', 'tmn': '2', 'tmx': '10'}]}, {'province': '부산ㆍ울산ㆍ경상남도', 'city': '창원', 'datas': [{'mode': 'A02', 'tmEf': '2023-12-07 00:00', 'wf': '맑음', 'tmn': '4', 'tmx': '12'}, {'mode': 'A02', 'tmEf': '2023-12-07 12:00', 'wf': '맑음', 'tmn': '4', 'tmx': '12'}, {'mode': 'A02', 'tmEf': '2023-12-08 00:00', 'wf': '맑음', 'tmn': '4', 'tmx': '17'}, {'mode': 'A02', 'tmEf': '2023-12-08 12:00', 'wf': '맑음', 'tmn': '4', 'tmx': '17'}, {'mode': 'A02', 'tmEf': '2023-12-09 00:00', 'wf': '맑음', 'tmn': '11', 'tmx': '18'}, {'mode': 'A02', 'tmEf': '2023-12-09 12:00', 'wf': '맑음', 'tmn': '11', 'tmx': '18'}, {'mode': 'A02', 'tmEf': '2023-12-10 00:00', 'wf': '맑음', 'tmn': '6', 'tmx': '14'}, {'mode': 'A02', 'tmEf': '2023-12-10 12:00', 'wf': '구름많음', 'tmn': '6', 'tmx': '14'}, {'mode': 'A02', 'tmEf': '2023-12-11 00:00', 'wf': '흐림', 'tmn': '6', 'tmx': '11'}, {'mode': 'A02', 'tmEf': '2023-12-11 12:00', 'wf': '흐리고 비', 'tmn': '6', 'tmx': '11'}, {'mode': 'A01', 'tmEf': '2023-12-12 00:00', 'wf': '흐리고 비', 'tmn': '6', 'tmx': '12'}, {'mode': 'A01', 'tmEf': '2023-12-13 00:00', 'wf': '맑음', 'tmn': '3', 'tmx': '10'}, {'mode': 'A01', 'tmEf': '2023-12-14 00:00', 'wf': '흐림', 'tmn': '2', 'tmx': '8'}]}, {'province': '부산ㆍ울산ㆍ경상남도', 'city': '진주', 'datas': [{'mode': 'A02', 'tmEf': '2023-12-07 00:00', 'wf': '맑음', 'tmn': '0', 'tmx': '12'}, {'mode': 'A02', 'tmEf': '2023-12-07 12:00', 'wf': '맑음', 'tmn': '0', 'tmx': '12'}, {'mode': 'A02', 'tmEf': '2023-12-08 00:00', 'wf': '맑음', 'tmn': '0', 'tmx': '18'}, {'mode': 'A02', 'tmEf': '2023-12-08 12:00', 'wf': '맑음', 'tmn': '0', 'tmx': '18'}, {'mode': 'A02', 'tmEf': '2023-12-09 00:00', 'wf': '맑음', 'tmn': '7', 'tmx': '18'}, {'mode': 'A02', 'tmEf': '2023-12-09 12:00', 'wf': '맑음', 'tmn': '7', 'tmx': '18'}, {'mode': 'A02', 'tmEf': '2023-12-10 00:00', 'wf': '맑음', 'tmn': '3', 'tmx': '14'}, {'mode': 'A02', 'tmEf': '2023-12-10 12:00', 'wf': '구름많음', 'tmn': '3', 'tmx': '14'}, {'mode': 'A02', 'tmEf': '2023-12-11 00:00', 'wf': '흐림', 'tmn': '4', 'tmx': '11'}, {'mode': 'A02', 'tmEf': '2023-12-11 12:00', 'wf': '흐리고 비', 'tmn': '4', 'tmx': '11'}, {'mode': 'A01', 'tmEf': '2023-12-12 00:00', 'wf': '흐리고 비', 'tmn': '5', 'tmx': '12'}, {'mode': 'A01', 'tmEf': '2023-12-13 00:00', 'wf': '맑음', 'tmn': '0', 'tmx': '11'}, {'mode': 'A01', 'tmEf': '2023-12-14 00:00', 'wf': '흐림', 'tmn': '0', 'tmx': '9'}]}, {'province': '부산ㆍ울산ㆍ경상남도', 'city': '거창', 'datas': [{'mode': 'A02', 'tmEf': '2023-12-07 00:00', 'wf': '맑음', 'tmn': '1', 'tmx': '10'}, {'mode': 'A02', 'tmEf': '2023-12-07 12:00', 'wf': '맑음', 'tmn': '1', 'tmx': '10'}, {'mode': 'A02', 'tmEf': '2023-12-08 00:00', 'wf': '맑음', 'tmn': '-3', 'tmx': '17'}, {'mode': 'A02', 'tmEf': '2023-12-08 12:00', 'wf': '맑음', 'tmn': '-3', 'tmx': '17'}, {'mode': 'A02', 'tmEf': '2023-12-09 00:00', 'wf': '맑음', 'tmn': '4', 'tmx': '17'}, {'mode': 'A02', 'tmEf': '2023-12-09 12:00', 'wf': '맑음', 'tmn': '4', 'tmx': '17'}, {'mode': 'A02', 'tmEf': '2023-12-10 00:00', 'wf': '맑음', 'tmn': '-1', 'tmx': '13'}, {'mode': 'A02', 'tmEf': '2023-12-10 12:00', 'wf': '구름많음', 'tmn': '-1', 'tmx': '13'}, {'mode': 'A02', 'tmEf': '2023-12-11 00:00', 'wf': '흐림', 'tmn': '1', 'tmx': '9'}, {'mode': 'A02', 'tmEf': '2023-12-11 12:00', 'wf': '흐리고 비', 'tmn': '1', 'tmx': '9'}, {'mode': 'A01', 'tmEf': '2023-12-12 00:00', 'wf': '흐리고 비', 'tmn': '3', 'tmx': '10'}, {'mode': 'A01', 'tmEf': '2023-12-13 00:00', 'wf': '맑음', 'tmn': '-2', 'tmx': '9'}, {'mode': 'A01', 'tmEf': '2023-12-14 00:00', 'wf': '흐림', 'tmn': '-2', 'tmx': '8'}]}, {'province': '부산ㆍ울산ㆍ경상남도', 'city': '통영', 'datas': [{'mode': 'A02', 'tmEf': '2023-12-07 00:00', 'wf': '맑음', 'tmn': '5', 'tmx': '12'}, {'mode': 'A02', 'tmEf': '2023-12-07 12:00', 'wf': '맑음', 'tmn': '5', 'tmx': '12'}, {'mode': 'A02', 'tmEf': '2023-12-08 00:00', 'wf': '맑음', 'tmn': '7', 'tmx': '17'}, {'mode': 'A02', 'tmEf': '2023-12-08 12:00', 'wf': '맑음', 'tmn': '7', 'tmx': '17'}, {'mode': 'A02', 'tmEf': '2023-12-09 00:00', 'wf': '맑음', 'tmn': '11', 'tmx': '17'}, {'mode': 'A02', 'tmEf': '2023-12-09 12:00', 'wf': '맑음', 'tmn': '11', 'tmx': '17'}, {'mode': 'A02', 'tmEf': '2023-12-10 00:00', 'wf': '맑음', 'tmn': '8', 'tmx': '15'}, {'mode': 'A02', 'tmEf': '2023-12-10 12:00', 'wf': '구름많음', 'tmn': '8', 'tmx': '15'}, {'mode': 'A02', 'tmEf': '2023-12-11 00:00', 'wf': '흐림', 'tmn': '7', 'tmx': '13'}, {'mode': 'A02', 'tmEf': '2023-12-11 12:00', 'wf': '흐리고 비', 'tmn': '7', 'tmx': '13'}, {'mode': 'A01', 'tmEf': '2023-12-12 00:00', 'wf': '흐리고 비', 'tmn': '7', 'tmx': '13'}, {'mode': 'A01', 'tmEf': '2023-12-13 00:00', 'wf': '맑음', 'tmn': '5', 'tmx': '12'}, {'mode': 'A01', 'tmEf': '2023-12-14 00:00', 'wf': '흐림', 'tmn': '3', 'tmx': '9'}]}, {'province': '대구ㆍ경상북도', 'city': '대구', 'datas': [{'mode': 'A02', 'tmEf': '2023-12-07 00:00', 'wf': '맑음', 'tmn': '4', 'tmx': '12'}, {'mode': 'A02', 'tmEf': '2023-12-07 12:00', 'wf': '맑음', 'tmn': '4', 'tmx': '12'}, {'mode': 'A02', 'tmEf': '2023-12-08 00:00', 'wf': '맑음', 'tmn': '2', 'tmx': '19'}, {'mode': 'A02', 'tmEf': '2023-12-08 12:00', 'wf': '맑음', 'tmn': '2', 'tmx': '19'}, {'mode': 'A02', 'tmEf': '2023-12-09 00:00', 'wf': '맑음', 'tmn': '8', 'tmx': '18'}, {'mode': 'A02', 'tmEf': '2023-12-09 12:00', 'wf': '맑음', 'tmn': '8', 'tmx': '18'}, {'mode': 'A02', 'tmEf': '2023-12-10 00:00', 'wf': '맑음', 'tmn': '3', 'tmx': '13'}, {'mode': 'A02', 'tmEf': '2023-12-10 12:00', 'wf': '구름많음', 'tmn': '3', 'tmx': '13'}, {'mode': 'A02', 'tmEf': '2023-12-11 00:00', 'wf': '흐림', 'tmn': '4', 'tmx': '9'}, {'mode': 'A02', 'tmEf': '2023-12-11 12:00', 'wf': '흐리고 비', 'tmn': '4', 'tmx': '9'}, {'mode': 'A01', 'tmEf': '2023-12-12 00:00', 'wf': '흐리고 비', 'tmn': '5', 'tmx': '10'}, {'mode': 'A01', 'tmEf': '2023-12-13 00:00', 'wf': '맑음', 'tmn': '2', 'tmx': '9'}, {'mode': 'A01', 'tmEf': '2023-12-14 00:00', 'wf': '흐림', 'tmn': '1', 'tmx': '7'}]}, {'province': '대구ㆍ경상북도', 'city': '안동', 'datas': [{'mode': 'A02', 'tmEf': '2023-12-07 00:00', 'wf': '맑음', 'tmn': '2', 'tmx': '9'}, {'mode': 'A02', 'tmEf': '2023-12-07 12:00', 'wf': '맑음', 'tmn': '2', 'tmx': '9'}, {'mode': 'A02', 'tmEf': '2023-12-08 00:00', 'wf': '맑음', 'tmn': '-1', 'tmx': '15'}, {'mode': 'A02', 'tmEf': '2023-12-08 12:00', 'wf': '맑음', 'tmn': '-1', 'tmx': '15'}, {'mode': 'A02', 'tmEf': '2023-12-09 00:00', 'wf': '맑음', 'tmn': '5', 'tmx': '15'}, {'mode': 'A02', 'tmEf': '2023-12-09 12:00', 'wf': '맑음', 'tmn': '5', 'tmx': '15'}, {'mode': 'A02', 'tmEf': '2023-12-10 00:00', 'wf': '맑음', 'tmn': '0', 'tmx': '11'}, {'mode': 'A02', 'tmEf': '2023-12-10 12:00', 'wf': '구름많음', 'tmn': '0', 'tmx': '11'}, {'mode': 'A02', 'tmEf': '2023-12-11 00:00', 'wf': '흐림', 'tmn': '2', 'tmx': '8'}, {'mode': 'A02', 'tmEf': '2023-12-11 12:00', 'wf': '흐리고 비', 'tmn': '2', 'tmx': '8'}, {'mode': 'A01', 'tmEf': '2023-12-12 00:00', 'wf': '흐리고 비', 'tmn': '4', 'tmx': '9'}, {'mode': 'A01', 'tmEf': '2023-12-13 00:00', 'wf': '맑음', 'tmn': '-1', 'tmx': '8'}, {'mode': 'A01', 'tmEf': '2023-12-14 00:00', 'wf': '흐림', 'tmn': '-2', 'tmx': '7'}]}, {'province': '대구ㆍ경상북도', 'city': '포항', 'datas': [{'mode': 'A02', 'tmEf': '2023-12-07 00:00', 'wf': '맑음', 'tmn': '4', 'tmx': '11'}, {'mode': 'A02', 'tmEf': '2023-12-07 12:00', 'wf': '맑음', 'tmn': '4', 'tmx': '11'}, {'mode': 'A02', 'tmEf': '2023-12-08 00:00', 'wf': '맑음', 'tmn': '4', 'tmx': '19'}, {'mode': 'A02', 'tmEf': '2023-12-08 12:00', 'wf': '맑음', 'tmn': '4', 'tmx': '19'}, {'mode': 'A02', 'tmEf': '2023-12-09 00:00', 'wf': '맑음', 'tmn': '11', 'tmx': '19'}, {'mode': 'A02', 'tmEf': '2023-12-09 12:00', 'wf': '맑음', 'tmn': '11', 'tmx': '19'}, {'mode': 'A02', 'tmEf': '2023-12-10 00:00', 'wf': '맑음', 'tmn': '6', 'tmx': '13'}, {'mode': 'A02', 'tmEf': '2023-12-10 12:00', 'wf': '구름많음', 'tmn': '6', 'tmx': '13'}, {'mode': 'A02', 'tmEf': '2023-12-11 00:00', 'wf': '흐림', 'tmn': '6', 'tmx': '11'}, {'mode': 'A02', 'tmEf': '2023-12-11 12:00', 'wf': '흐리고 비', 'tmn': '6', 'tmx': '11'}, {'mode': 'A01', 'tmEf': '2023-12-12 00:00', 'wf': '흐리고 비', 'tmn': '7', 'tmx': '11'}, {'mode': 'A01', 'tmEf': '2023-12-13 00:00', 'wf': '맑음', 'tmn': '4', 'tmx': '11'}, {'mode': 'A01', 'tmEf': '2023-12-14 00:00', 'wf': '흐림', 'tmn': '2', 'tmx': '9'}]}, {'province': '대구ㆍ경상북도', 'city': '경주', 'datas': [{'mode': 'A02', 'tmEf': '2023-12-07 00:00', 'wf': '맑음', 'tmn': '3', 'tmx': '12'}, {'mode': 'A02', 'tmEf': '2023-12-07 12:00', 'wf': '맑음', 'tmn': '3', 'tmx': '12'}, {'mode': 'A02', 'tmEf': '2023-12-08 00:00', 'wf': '맑음', 'tmn': '0', 'tmx': '19'}, {'mode': 'A02', 'tmEf': '2023-12-08 12:00', 'wf': '맑음', 'tmn': '0', 'tmx': '19'}, {'mode': 'A02', 'tmEf': '2023-12-09 00:00', 'wf': '맑음', 'tmn': '9', 'tmx': '19'}, {'mode': 'A02', 'tmEf': '2023-12-09 12:00', 'wf': '맑음', 'tmn': '9', 'tmx': '19'}, {'mode': 'A02', 'tmEf': '2023-12-10 00:00', 'wf': '맑음', 'tmn': '3', 'tmx': '14'}, {'mode': 'A02', 'tmEf': '2023-12-10 12:00', 'wf': '구름많음', 'tmn': '3', 'tmx': '14'}, {'mode': 'A02', 'tmEf': '2023-12-11 00:00', 'wf': '흐림', 'tmn': '4', 'tmx': '11'}, {'mode': 'A02', 'tmEf': '2023-12-11 12:00', 'wf': '흐리고 비', 'tmn': '4', 'tmx': '11'}, {'mode': 'A01', 'tmEf': '2023-12-12 00:00', 'wf': '흐리고 비', 'tmn': '7', 'tmx': '11'}, {'mode': 'A01', 'tmEf': '2023-12-13 00:00', 'wf': '맑음', 'tmn': '1', 'tmx': '11'}, {'mode': 'A01', 'tmEf': '2023-12-14 00:00', 'wf': '흐림', 'tmn': '1', 'tmx': '8'}]}, {'province': '대구ㆍ경상북도', 'city': '울진', 'datas': [{'mode': 'A02', 'tmEf': '2023-12-07 00:00', 'wf': '맑음', 'tmn': '3', 'tmx': '11'}, {'mode': 'A02', 'tmEf': '2023-12-07 12:00', 'wf': '맑음', 'tmn': '3', 'tmx': '11'}, {'mode': 'A02', 'tmEf': '2023-12-08 00:00', 'wf': '맑음', 'tmn': '4', 'tmx': '17'}, {'mode': 'A02', 'tmEf': '2023-12-08 12:00', 'wf': '맑음', 'tmn': '4', 'tmx': '17'}, {'mode': 'A02', 'tmEf': '2023-12-09 00:00', 'wf': '맑음', 'tmn': '10', 'tmx': '18'}, {'mode': 'A02', 'tmEf': '2023-12-09 12:00', 'wf': '맑음', 'tmn': '10', 'tmx': '18'}, {'mode': 'A02', 'tmEf': '2023-12-10 00:00', 'wf': '맑음', 'tmn': '4', 'tmx': '12'}, {'mode': 'A02', 'tmEf': '2023-12-10 12:00', 'wf': '구름많음', 'tmn': '4', 'tmx': '12'}, {'mode': 'A02', 'tmEf': '2023-12-11 00:00', 'wf': '흐림', 'tmn': '5', 'tmx': '10'}, {'mode': 'A02', 'tmEf': '2023-12-11 12:00', 'wf': '흐리고 비', 'tmn': '5', 'tmx': '10'}, {'mode': 'A01', 'tmEf': '2023-12-12 00:00', 'wf': '흐리고 비', 'tmn': '5', 'tmx': '10'}, {'mode': 'A01', 'tmEf': '2023-12-13 00:00', 'wf': '맑음', 'tmn': '2', 'tmx': '10'}, {'mode': 'A01', 'tmEf': '2023-12-14 00:00', 'wf': '흐림', 'tmn': '1', 'tmx': '9'}]}, {'province': '대구ㆍ경상북도', 'city': '울릉도', 'datas': [{'mode': 'A02', 'tmEf': '2023-12-07 00:00', 'wf': '맑음', 'tmn': '6', 'tmx': '8'}, {'mode': 'A02', 'tmEf': '2023-12-07 12:00', 'wf': '맑음', 'tmn': '6', 'tmx': '8'}, {'mode': 'A02', 'tmEf': '2023-12-08 00:00', 'wf': '맑음', 'tmn': '8', 'tmx': '16'}, {'mode': 'A02', 'tmEf': '2023-12-08 12:00', 'wf': '맑음', 'tmn': '8', 'tmx': '16'}, {'mode': 'A02', 'tmEf': '2023-12-09 00:00', 'wf': '맑음', 'tmn': '11', 'tmx': '15'}, {'mode': 'A02', 'tmEf': '2023-12-09 12:00', 'wf': '맑음', 'tmn': '11', 'tmx': '15'}, {'mode': 'A02', 'tmEf': '2023-12-10 00:00', 'wf': '맑음', 'tmn': '7', 'tmx': '10'}, {'mode': 'A02', 'tmEf': '2023-12-10 12:00', 'wf': '구름많음', 'tmn': '7', 'tmx': '10'}, {'mode': 'A02', 'tmEf': '2023-12-11 00:00', 'wf': '흐림', 'tmn': '6', 'tmx': '9'}, {'mode': 'A02', 'tmEf': '2023-12-11 12:00', 'wf': '흐리고 비', 'tmn': '6', 'tmx': '9'}, {'mode': 'A01', 'tmEf': '2023-12-12 00:00', 'wf': '흐리고 비', 'tmn': '4', 'tmx': '8'}, {'mode': 'A01', 'tmEf': '2023-12-13 00:00', 'wf': '맑음', 'tmn': '5', 'tmx': '8'}, {'mode': 'A01', 'tmEf': '2023-12-14 00:00', 'wf': '흐림', 'tmn': '4', 'tmx': '7'}]}, {'province': '제주도', 'city': '제주', 'datas': [{'mode': 'A02', 'tmEf': '2023-12-07 00:00', 'wf': '맑음', 'tmn': '9', 'tmx': '14'}, {'mode': 'A02', 'tmEf': '2023-12-07 12:00', 'wf': '맑음', 'tmn': '9', 'tmx': '14'}, {'mode': 'A02', 'tmEf': '2023-12-08 00:00', 'wf': '맑음', 'tmn': '9', 'tmx': '20'}, {'mode': 'A02', 'tmEf': '2023-12-08 12:00', 'wf': '맑음', 'tmn': '9', 'tmx': '20'}, {'mode': 'A02', 'tmEf': '2023-12-09 00:00', 'wf': '구름많음', 'tmn': '13', 'tmx': '20'}, {'mode': 'A02', 'tmEf': '2023-12-09 12:00', 'wf': '구름많음', 'tmn': '13', 'tmx': '20'}, {'mode': 'A02', 'tmEf': '2023-12-10 00:00', 'wf': '구름많음', 'tmn': '10', 'tmx': '15'}, {'mode': 'A02', 'tmEf': '2023-12-10 12:00', 'wf': '흐림', 'tmn': '10', 'tmx': '15'}, {'mode': 'A02', 'tmEf': '2023-12-11 00:00', 'wf': '흐리고 비', 'tmn': '11', 'tmx': '16'}, {'mode': 'A02', 'tmEf': '2023-12-11 12:00', 'wf': '흐리고 비', 'tmn': '11', 'tmx': '16'}, {'mode': 'A01', 'tmEf': '2023-12-12 00:00', 'wf': '흐림', 'tmn': '10', 'tmx': '13'}, {'mode': 'A01', 'tmEf': '2023-12-13 00:00', 'wf': '구름많음', 'tmn': '8', 'tmx': '13'}, {'mode': 'A01', 'tmEf': '2023-12-14 00:00', 'wf': '흐림', 'tmn': '8', 'tmx': '13'}]}, {'province': '제주도', 'city': '서귀포', 'datas': [{'mode': 'A02', 'tmEf': '2023-12-07 00:00', 'wf': '맑음', 'tmn': '8', 'tmx': '15'}, {'mode': 'A02', 'tmEf': '2023-12-07 12:00', 'wf': '맑음', 'tmn': '8', 'tmx': '15'}, {'mode': 'A02', 'tmEf': '2023-12-08 00:00', 'wf': '맑음', 'tmn': '11', 'tmx': '19'}, {'mode': 'A02', 'tmEf': '2023-12-08 12:00', 'wf': '맑음', 'tmn': '11', 'tmx': '19'}, {'mode': 'A02', 'tmEf': '2023-12-09 00:00', 'wf': '구름많음', 'tmn': '14', 'tmx': '20'}, {'mode': 'A02', 'tmEf': '2023-12-09 12:00', 'wf': '구름많음', 'tmn': '14', 'tmx': '20'}, {'mode': 'A02', 'tmEf': '2023-12-10 00:00', 'wf': '구름많음', 'tmn': '12', 'tmx': '18'}, {'mode': 'A02', 'tmEf': '2023-12-10 12:00', 'wf': '흐림', 'tmn': '12', 'tmx': '18'}, {'mode': 'A02', 'tmEf': '2023-12-11 00:00', 'wf': '흐리고 비', 'tmn': '13', 'tmx': '17'}, {'mode': 'A02', 'tmEf': '2023-12-11 12:00', 'wf': '흐리고 비', 'tmn': '13', 'tmx': '17'}, {'mode': 'A01', 'tmEf': '2023-12-12 00:00', 'wf': '흐림', 'tmn': '11', 'tmx': '15'}, {'mode': 'A01', 'tmEf': '2023-12-13 00:00', 'wf': '구름많음', 'tmn': '9', 'tmx': '14'}, {'mode': 'A01', 'tmEf': '2023-12-14 00:00', 'wf': '흐림', 'tmn': '8', 'tmx': '14'}]}]\n"
     ]
    }
   ],
   "source": [
    "import json\n",
    "\n",
    "with open('data/weather.json', encoding='utf-8') as file:\n",
    "    json_data = json.load(file)\n",
    "\n",
    "print(json_data)    "
   ]
  }
 ],
 "metadata": {
  "kernelspec": {
   "display_name": "Python 3 (ipykernel)",
   "language": "python",
   "name": "python3"
  },
  "language_info": {
   "codemirror_mode": {
    "name": "ipython",
    "version": 3
   },
   "file_extension": ".py",
   "mimetype": "text/x-python",
   "name": "python",
   "nbconvert_exporter": "python",
   "pygments_lexer": "ipython3",
   "version": "3.10.9"
  }
 },
 "nbformat": 4,
 "nbformat_minor": 5
}
