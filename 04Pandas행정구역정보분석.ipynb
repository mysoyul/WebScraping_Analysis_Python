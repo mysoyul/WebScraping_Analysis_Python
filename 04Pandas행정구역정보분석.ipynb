{
 "cells": [
  {
   "cell_type": "markdown",
   "id": "b9f48857",
   "metadata": {},
   "source": [
    "### 행정구역 정보 읽고, 분석하기\n",
    "1. read_csv() 함수로 csv file 읽어서 DataFrame 객체생성하기\n",
    "2. 특정열과 행을 선택(selection)ㅎ"
   ]
  }
 ],
 "metadata": {
  "kernelspec": {
   "display_name": "Python 3 (ipykernel)",
   "language": "python",
   "name": "python3"
  },
  "language_info": {
   "codemirror_mode": {
    "name": "ipython",
    "version": 3
   },
   "file_extension": ".py",
   "mimetype": "text/x-python",
   "name": "python",
   "nbconvert_exporter": "python",
   "pygments_lexer": "ipython3",
   "version": "3.10.9"
  }
 },
 "nbformat": 4,
 "nbformat_minor": 5
}
