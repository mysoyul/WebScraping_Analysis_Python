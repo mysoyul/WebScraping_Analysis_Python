{
 "cells": [
  {
   "cell_type": "markdown",
   "id": "c3e732eb",
   "metadata": {},
   "source": [
    "### 행정구역 정보 읽고, 분석하기\n",
    "1. read_csv() 함수로 csv file 읽어서 DataFrame 객체생성하기\n",
    "2. 특정열과 행을 선택(selection)할때 loc과 iloc 이라는 property 사용하기\n",
    "3. 컬럼명 변경하기\n",
    "4. 상관관계 분석(인구수와 면적간의 상관관계)\n",
    "5. 시각화(Visualiztion)"
   ]
  },
  {
   "cell_type": "code",
   "execution_count": 5,
   "id": "f405f22c",
   "metadata": {},
   "outputs": [
    {
     "name": "stdout",
     "output_type": "stream",
     "text": [
      "1.5.3\n",
      "<class 'pandas.core.frame.DataFrame'>\n",
      "(229, 8)\n"
     ]
    }
   ],
   "source": [
    "import pandas as pd\n",
    "print(pd.__version__)\n",
    "\n",
    "data = pd.read_csv('data/data_draw_korea.csv')\n",
    "print(type(data))\n",
    "#행과열의 길이\n",
    "print(data.shape)"
   ]
  },
  {
   "cell_type": "code",
   "execution_count": 8,
   "id": "f29e382b",
   "metadata": {},
   "outputs": [
    {
     "data": {
      "text/html": [
       "<div>\n",
       "<style scoped>\n",
       "    .dataframe tbody tr th:only-of-type {\n",
       "        vertical-align: middle;\n",
       "    }\n",
       "\n",
       "    .dataframe tbody tr th {\n",
       "        vertical-align: top;\n",
       "    }\n",
       "\n",
       "    .dataframe thead th {\n",
       "        text-align: right;\n",
       "    }\n",
       "</style>\n",
       "<table border=\"1\" class=\"dataframe\">\n",
       "  <thead>\n",
       "    <tr style=\"text-align: right;\">\n",
       "      <th></th>\n",
       "      <th>Unnamed: 0</th>\n",
       "      <th>인구수</th>\n",
       "      <th>shortName</th>\n",
       "      <th>x</th>\n",
       "      <th>y</th>\n",
       "      <th>면적</th>\n",
       "      <th>광역시도</th>\n",
       "      <th>행정구역</th>\n",
       "    </tr>\n",
       "  </thead>\n",
       "  <tbody>\n",
       "    <tr>\n",
       "      <th>0</th>\n",
       "      <td>0</td>\n",
       "      <td>202520</td>\n",
       "      <td>강릉</td>\n",
       "      <td>11</td>\n",
       "      <td>4</td>\n",
       "      <td>1040.07</td>\n",
       "      <td>강원도</td>\n",
       "      <td>강릉시</td>\n",
       "    </tr>\n",
       "    <tr>\n",
       "      <th>1</th>\n",
       "      <td>1</td>\n",
       "      <td>25589</td>\n",
       "      <td>고성(강원)</td>\n",
       "      <td>9</td>\n",
       "      <td>0</td>\n",
       "      <td>664.19</td>\n",
       "      <td>강원도</td>\n",
       "      <td>고성군</td>\n",
       "    </tr>\n",
       "    <tr>\n",
       "      <th>2</th>\n",
       "      <td>2</td>\n",
       "      <td>86747</td>\n",
       "      <td>동해</td>\n",
       "      <td>11</td>\n",
       "      <td>5</td>\n",
       "      <td>180.01</td>\n",
       "      <td>강원도</td>\n",
       "      <td>동해시</td>\n",
       "    </tr>\n",
       "  </tbody>\n",
       "</table>\n",
       "</div>"
      ],
      "text/plain": [
       "   Unnamed: 0     인구수 shortName   x  y       면적 광역시도 행정구역\n",
       "0           0  202520        강릉  11  4  1040.07  강원도  강릉시\n",
       "1           1   25589    고성(강원)   9  0   664.19  강원도  고성군\n",
       "2           2   86747        동해  11  5   180.01  강원도  동해시"
      ]
     },
     "execution_count": 8,
     "metadata": {},
     "output_type": "execute_result"
    }
   ],
   "source": [
    "data.head(3)"
   ]
  },
  {
   "cell_type": "code",
   "execution_count": 9,
   "id": "dca5d715",
   "metadata": {},
   "outputs": [
    {
     "data": {
      "text/html": [
       "<div>\n",
       "<style scoped>\n",
       "    .dataframe tbody tr th:only-of-type {\n",
       "        vertical-align: middle;\n",
       "    }\n",
       "\n",
       "    .dataframe tbody tr th {\n",
       "        vertical-align: top;\n",
       "    }\n",
       "\n",
       "    .dataframe thead th {\n",
       "        text-align: right;\n",
       "    }\n",
       "</style>\n",
       "<table border=\"1\" class=\"dataframe\">\n",
       "  <thead>\n",
       "    <tr style=\"text-align: right;\">\n",
       "      <th></th>\n",
       "      <th>Unnamed: 0</th>\n",
       "      <th>인구수</th>\n",
       "      <th>shortName</th>\n",
       "      <th>x</th>\n",
       "      <th>y</th>\n",
       "      <th>면적</th>\n",
       "      <th>광역시도</th>\n",
       "      <th>행정구역</th>\n",
       "    </tr>\n",
       "  </thead>\n",
       "  <tbody>\n",
       "    <tr>\n",
       "      <th>224</th>\n",
       "      <td>224</td>\n",
       "      <td>127462</td>\n",
       "      <td>제천</td>\n",
       "      <td>8</td>\n",
       "      <td>10</td>\n",
       "      <td>882.47</td>\n",
       "      <td>충청북도</td>\n",
       "      <td>제천시</td>\n",
       "    </tr>\n",
       "    <tr>\n",
       "      <th>225</th>\n",
       "      <td>225</td>\n",
       "      <td>34480</td>\n",
       "      <td>증평</td>\n",
       "      <td>6</td>\n",
       "      <td>11</td>\n",
       "      <td>81.84</td>\n",
       "      <td>충청북도</td>\n",
       "      <td>증평군</td>\n",
       "    </tr>\n",
       "    <tr>\n",
       "      <th>226</th>\n",
       "      <td>226</td>\n",
       "      <td>62809</td>\n",
       "      <td>진천</td>\n",
       "      <td>5</td>\n",
       "      <td>11</td>\n",
       "      <td>406.08</td>\n",
       "      <td>충청북도</td>\n",
       "      <td>진천군</td>\n",
       "    </tr>\n",
       "    <tr>\n",
       "      <th>227</th>\n",
       "      <td>227</td>\n",
       "      <td>790216</td>\n",
       "      <td>청주</td>\n",
       "      <td>6</td>\n",
       "      <td>12</td>\n",
       "      <td>932.51</td>\n",
       "      <td>충청북도</td>\n",
       "      <td>청주시</td>\n",
       "    </tr>\n",
       "    <tr>\n",
       "      <th>228</th>\n",
       "      <td>228</td>\n",
       "      <td>198077</td>\n",
       "      <td>충주</td>\n",
       "      <td>6</td>\n",
       "      <td>10</td>\n",
       "      <td>983.70</td>\n",
       "      <td>충청북도</td>\n",
       "      <td>충주시</td>\n",
       "    </tr>\n",
       "  </tbody>\n",
       "</table>\n",
       "</div>"
      ],
      "text/plain": [
       "     Unnamed: 0     인구수 shortName  x   y      면적  광역시도 행정구역\n",
       "224         224  127462        제천  8  10  882.47  충청북도  제천시\n",
       "225         225   34480        증평  6  11   81.84  충청북도  증평군\n",
       "226         226   62809        진천  5  11  406.08  충청북도  진천군\n",
       "227         227  790216        청주  6  12  932.51  충청북도  청주시\n",
       "228         228  198077        충주  6  10  983.70  충청북도  충주시"
      ]
     },
     "execution_count": 9,
     "metadata": {},
     "output_type": "execute_result"
    }
   ],
   "source": [
    "data.tail()"
   ]
  },
  {
   "cell_type": "code",
   "execution_count": 13,
   "id": "de5e4ac3",
   "metadata": {},
   "outputs": [
    {
     "data": {
      "text/html": [
       "<div>\n",
       "<style scoped>\n",
       "    .dataframe tbody tr th:only-of-type {\n",
       "        vertical-align: middle;\n",
       "    }\n",
       "\n",
       "    .dataframe tbody tr th {\n",
       "        vertical-align: top;\n",
       "    }\n",
       "\n",
       "    .dataframe thead th {\n",
       "        text-align: right;\n",
       "    }\n",
       "</style>\n",
       "<table border=\"1\" class=\"dataframe\">\n",
       "  <thead>\n",
       "    <tr style=\"text-align: right;\">\n",
       "      <th></th>\n",
       "      <th>Unnamed: 0</th>\n",
       "      <th>인구수</th>\n",
       "      <th>shortName</th>\n",
       "      <th>x</th>\n",
       "      <th>y</th>\n",
       "      <th>면적</th>\n",
       "      <th>광역시도</th>\n",
       "      <th>행정구역</th>\n",
       "    </tr>\n",
       "  </thead>\n",
       "  <tbody>\n",
       "    <tr>\n",
       "      <th>222</th>\n",
       "      <td>222</td>\n",
       "      <td>47599</td>\n",
       "      <td>옥천</td>\n",
       "      <td>6</td>\n",
       "      <td>13</td>\n",
       "      <td>537.13</td>\n",
       "      <td>충청북도</td>\n",
       "      <td>옥천군</td>\n",
       "    </tr>\n",
       "    <tr>\n",
       "      <th>179</th>\n",
       "      <td>179</td>\n",
       "      <td>52823</td>\n",
       "      <td>영암</td>\n",
       "      <td>1</td>\n",
       "      <td>21</td>\n",
       "      <td>544.48</td>\n",
       "      <td>전라남도</td>\n",
       "      <td>영암군</td>\n",
       "    </tr>\n",
       "    <tr>\n",
       "      <th>129</th>\n",
       "      <td>129</td>\n",
       "      <td>342909</td>\n",
       "      <td>서울광진</td>\n",
       "      <td>7</td>\n",
       "      <td>6</td>\n",
       "      <td>17.05</td>\n",
       "      <td>서울특별시</td>\n",
       "      <td>광진구</td>\n",
       "    </tr>\n",
       "  </tbody>\n",
       "</table>\n",
       "</div>"
      ],
      "text/plain": [
       "     Unnamed: 0     인구수 shortName  x   y      면적   광역시도 행정구역\n",
       "222         222   47599        옥천  6  13  537.13   충청북도  옥천군\n",
       "179         179   52823        영암  1  21  544.48   전라남도  영암군\n",
       "129         129  342909      서울광진  7   6   17.05  서울특별시  광진구"
      ]
     },
     "execution_count": 13,
     "metadata": {},
     "output_type": "execute_result"
    }
   ],
   "source": [
    "data.sample(3)"
   ]
  },
  {
   "cell_type": "code",
   "execution_count": 14,
   "id": "9d817a7e",
   "metadata": {},
   "outputs": [
    {
     "name": "stdout",
     "output_type": "stream",
     "text": [
      "컬럼명 : Index(['Unnamed: 0', '인구수', 'shortName', 'x', 'y', '면적', '광역시도', '행정구역'], dtype='object')\n",
      "인덱스 : RangeIndex(start=0, stop=229, step=1)\n"
     ]
    }
   ],
   "source": [
    "print(f'컬럼명 : {data.columns}')\n",
    "print(f'인덱스 : {data.index}')"
   ]
  },
  {
   "cell_type": "code",
   "execution_count": 16,
   "id": "67038a5a",
   "metadata": {},
   "outputs": [
    {
     "name": "stdout",
     "output_type": "stream",
     "text": [
      "<class 'numpy.ndarray'>\n"
     ]
    },
    {
     "data": {
      "text/plain": [
       "array([[0, 202520, '강릉', ..., 1040.07, '강원도', '강릉시'],\n",
       "       [1, 25589, '고성(강원)', ..., 664.19, '강원도', '고성군'],\n",
       "       [2, 86747, '동해', ..., 180.01, '강원도', '동해시'],\n",
       "       ...,\n",
       "       [226, 62809, '진천', ..., 406.08, '충청북도', '진천군'],\n",
       "       [227, 790216, '청주', ..., 932.51, '충청북도', '청주시'],\n",
       "       [228, 198077, '충주', ..., 983.7, '충청북도', '충주시']], dtype=object)"
      ]
     },
     "execution_count": 16,
     "metadata": {},
     "output_type": "execute_result"
    }
   ],
   "source": [
    "print(type(data.values))\n",
    "data.values"
   ]
  },
  {
   "cell_type": "code",
   "execution_count": 17,
   "id": "f547fd4d",
   "metadata": {},
   "outputs": [
    {
     "name": "stdout",
     "output_type": "stream",
     "text": [
      "<class 'pandas.core.frame.DataFrame'>\n",
      "RangeIndex: 229 entries, 0 to 228\n",
      "Data columns (total 8 columns):\n",
      " #   Column      Non-Null Count  Dtype  \n",
      "---  ------      --------------  -----  \n",
      " 0   Unnamed: 0  229 non-null    int64  \n",
      " 1   인구수         229 non-null    int64  \n",
      " 2   shortName   229 non-null    object \n",
      " 3   x           229 non-null    int64  \n",
      " 4   y           229 non-null    int64  \n",
      " 5   면적          229 non-null    float64\n",
      " 6   광역시도        229 non-null    object \n",
      " 7   행정구역        229 non-null    object \n",
      "dtypes: float64(1), int64(4), object(3)\n",
      "memory usage: 14.4+ KB\n"
     ]
    }
   ],
   "source": [
    "data.info()"
   ]
  },
  {
   "cell_type": "code",
   "execution_count": 18,
   "id": "8f71df17",
   "metadata": {},
   "outputs": [
    {
     "data": {
      "text/plain": [
       "Unnamed: 0      int64\n",
       "인구수             int64\n",
       "shortName      object\n",
       "x               int64\n",
       "y               int64\n",
       "면적            float64\n",
       "광역시도           object\n",
       "행정구역           object\n",
       "dtype: object"
      ]
     },
     "execution_count": 18,
     "metadata": {},
     "output_type": "execute_result"
    }
   ],
   "source": [
    "data.dtypes"
   ]
  },
  {
   "cell_type": "code",
   "execution_count": 20,
   "id": "b1ee04b4",
   "metadata": {},
   "outputs": [
    {
     "data": {
      "text/plain": [
       "dtype('int64')"
      ]
     },
     "execution_count": 20,
     "metadata": {},
     "output_type": "execute_result"
    }
   ],
   "source": [
    "data['인구수'].dtypes"
   ]
  },
  {
   "cell_type": "code",
   "execution_count": 21,
   "id": "2fbfd684",
   "metadata": {},
   "outputs": [
    {
     "data": {
      "text/html": [
       "<div>\n",
       "<style scoped>\n",
       "    .dataframe tbody tr th:only-of-type {\n",
       "        vertical-align: middle;\n",
       "    }\n",
       "\n",
       "    .dataframe tbody tr th {\n",
       "        vertical-align: top;\n",
       "    }\n",
       "\n",
       "    .dataframe thead th {\n",
       "        text-align: right;\n",
       "    }\n",
       "</style>\n",
       "<table border=\"1\" class=\"dataframe\">\n",
       "  <thead>\n",
       "    <tr style=\"text-align: right;\">\n",
       "      <th></th>\n",
       "      <th>Unnamed: 0</th>\n",
       "      <th>인구수</th>\n",
       "      <th>x</th>\n",
       "      <th>y</th>\n",
       "      <th>면적</th>\n",
       "    </tr>\n",
       "  </thead>\n",
       "  <tbody>\n",
       "    <tr>\n",
       "      <th>count</th>\n",
       "      <td>229.000000</td>\n",
       "      <td>2.290000e+02</td>\n",
       "      <td>229.000000</td>\n",
       "      <td>229.000000</td>\n",
       "      <td>229.000000</td>\n",
       "    </tr>\n",
       "    <tr>\n",
       "      <th>mean</th>\n",
       "      <td>114.000000</td>\n",
       "      <td>2.110898e+05</td>\n",
       "      <td>6.117904</td>\n",
       "      <td>11.262009</td>\n",
       "      <td>435.419795</td>\n",
       "    </tr>\n",
       "    <tr>\n",
       "      <th>std</th>\n",
       "      <td>66.250786</td>\n",
       "      <td>2.074378e+05</td>\n",
       "      <td>3.320469</td>\n",
       "      <td>6.040898</td>\n",
       "      <td>381.612549</td>\n",
       "    </tr>\n",
       "    <tr>\n",
       "      <th>min</th>\n",
       "      <td>0.000000</td>\n",
       "      <td>8.392000e+03</td>\n",
       "      <td>0.000000</td>\n",
       "      <td>0.000000</td>\n",
       "      <td>2.800000</td>\n",
       "    </tr>\n",
       "    <tr>\n",
       "      <th>25%</th>\n",
       "      <td>57.000000</td>\n",
       "      <td>4.955900e+04</td>\n",
       "      <td>3.000000</td>\n",
       "      <td>6.000000</td>\n",
       "      <td>54.000000</td>\n",
       "    </tr>\n",
       "    <tr>\n",
       "      <th>50%</th>\n",
       "      <td>114.000000</td>\n",
       "      <td>1.401590e+05</td>\n",
       "      <td>6.000000</td>\n",
       "      <td>11.000000</td>\n",
       "      <td>436.400000</td>\n",
       "    </tr>\n",
       "    <tr>\n",
       "      <th>75%</th>\n",
       "      <td>171.000000</td>\n",
       "      <td>3.216180e+05</td>\n",
       "      <td>9.000000</td>\n",
       "      <td>16.000000</td>\n",
       "      <td>692.800000</td>\n",
       "    </tr>\n",
       "    <tr>\n",
       "      <th>max</th>\n",
       "      <td>228.000000</td>\n",
       "      <td>1.125461e+06</td>\n",
       "      <td>13.000000</td>\n",
       "      <td>25.000000</td>\n",
       "      <td>1817.940000</td>\n",
       "    </tr>\n",
       "  </tbody>\n",
       "</table>\n",
       "</div>"
      ],
      "text/plain": [
       "       Unnamed: 0           인구수           x           y           면적\n",
       "count  229.000000  2.290000e+02  229.000000  229.000000   229.000000\n",
       "mean   114.000000  2.110898e+05    6.117904   11.262009   435.419795\n",
       "std     66.250786  2.074378e+05    3.320469    6.040898   381.612549\n",
       "min      0.000000  8.392000e+03    0.000000    0.000000     2.800000\n",
       "25%     57.000000  4.955900e+04    3.000000    6.000000    54.000000\n",
       "50%    114.000000  1.401590e+05    6.000000   11.000000   436.400000\n",
       "75%    171.000000  3.216180e+05    9.000000   16.000000   692.800000\n",
       "max    228.000000  1.125461e+06   13.000000   25.000000  1817.940000"
      ]
     },
     "execution_count": 21,
     "metadata": {},
     "output_type": "execute_result"
    }
   ],
   "source": [
    "data.describe()"
   ]
  },
  {
   "cell_type": "code",
   "execution_count": 25,
   "id": "94cd3655",
   "metadata": {},
   "outputs": [
    {
     "name": "stdout",
     "output_type": "stream",
     "text": [
      "<class 'pandas.core.series.Series'>\n"
     ]
    },
    {
     "data": {
      "text/plain": [
       "0      202520\n",
       "1       25589\n",
       "2       86747\n",
       "3       63986\n",
       "4       76733\n",
       "        ...  \n",
       "224    127462\n",
       "225     34480\n",
       "226     62809\n",
       "227    790216\n",
       "228    198077\n",
       "Name: 인구수, Length: 229, dtype: int64"
      ]
     },
     "execution_count": 25,
     "metadata": {},
     "output_type": "execute_result"
    }
   ],
   "source": [
    "#인구수 1개의 컬럼을 선택\n",
    "print(type(data['인구수']))\n",
    "data['인구수']"
   ]
  },
  {
   "cell_type": "code",
   "execution_count": 26,
   "id": "a57ba332",
   "metadata": {},
   "outputs": [
    {
     "name": "stdout",
     "output_type": "stream",
     "text": [
      "인구수 최대값 1125461\n",
      "인구수 최소값 8392\n",
      "인구수 평균 211089.77729257641\n",
      "인구수 표준편차 207437.8370475227\n",
      "인구수 중간값 140159.0\n"
     ]
    },
    {
     "data": {
      "text/plain": [
       "0.25     49559.0\n",
       "0.75    321618.0\n",
       "Name: 인구수, dtype: float64"
      ]
     },
     "execution_count": 26,
     "metadata": {},
     "output_type": "execute_result"
    }
   ],
   "source": [
    "# 인구수 컬럼의 집계함수\n",
    "print(f\"인구수 최대값 {data['인구수'].max()}\")\n",
    "print(f\"인구수 최소값 {data['인구수'].min()}\")\n",
    "print(f\"인구수 평균 {data['인구수'].mean()}\")\n",
    "print(f\"인구수 표준편차 {data['인구수'].std()}\")\n",
    "print(f\"인구수 중간값 {data['인구수'].median()}\")\n",
    "data['인구수'].quantile([0.25, 0.75])"
   ]
  },
  {
   "cell_type": "code",
   "execution_count": null,
   "id": "0bb5ecbd",
   "metadata": {},
   "outputs": [],
   "source": []
  }
 ],
 "metadata": {
  "kernelspec": {
   "display_name": "Python 3 (ipykernel)",
   "language": "python",
   "name": "python3"
  },
  "language_info": {
   "codemirror_mode": {
    "name": "ipython",
    "version": 3
   },
   "file_extension": ".py",
   "mimetype": "text/x-python",
   "name": "python",
   "nbconvert_exporter": "python",
   "pygments_lexer": "ipython3",
   "version": "3.10.9"
  }
 },
 "nbformat": 4,
 "nbformat_minor": 5
}
